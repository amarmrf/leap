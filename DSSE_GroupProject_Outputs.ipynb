{
  "nbformat": 4,
  "nbformat_minor": 0,
  "metadata": {
    "colab": {
      "provenance": [],
      "collapsed_sections": [
        "-1oa57vk2H0D",
        "s0YxRu9V2NOC",
        "Tv0SKBSJ2Scp",
        "IUPvvTYLq0Mi",
        "9V5VXRL3u82H",
        "OB07qoQ2sthe"
      ]
    },
    "kernelspec": {
      "name": "python3",
      "display_name": "Python 3"
    },
    "language_info": {
      "name": "python"
    }
  },
  "cells": [
    {
      "cell_type": "code",
      "execution_count": 9,
      "metadata": {
        "id": "1e28z3smo4Hu"
      },
      "outputs": [],
      "source": [
        "import pandas as pd\n",
        "import numpy as np\n",
        "import matplotlib.pyplot as plt"
      ]
    },
    {
      "cell_type": "markdown",
      "source": [
        "# Baseline"
      ],
      "metadata": {
        "id": "zIeVrcQ18o4j"
      }
    },
    {
      "cell_type": "code",
      "source": [
        "from google.colab import drive\n",
        "drive.mount('/content/drive')\n",
        "\n",
        "### SET OUTPUTS FOLDER ###\n",
        "outputs_folder = \"/content/drive/MyDrive/DSSE/GroupProject/outputs-baseline-v1/\""
      ],
      "metadata": {
        "id": "7uaEQeYVp9S8",
        "colab": {
          "base_uri": "https://localhost:8080/"
        },
        "outputId": "a0201173-5cfc-416c-9c0b-7b41e45c8907"
      },
      "execution_count": 10,
      "outputs": [
        {
          "output_type": "stream",
          "name": "stdout",
          "text": [
            "Mounted at /content/drive\n"
          ]
        }
      ]
    },
    {
      "cell_type": "code",
      "source": [
        "def get_mbpp_df(mbpp_file_name):\n",
        "  df = pd.read_json(outputs_folder + mbpp_file_name)\n",
        "  df.columns = [\"t0\", \"t1\", \"t2\"]\n",
        "  return df\n",
        "\n",
        "def get_human_eval_df(human_eval_file_name):\n",
        "  df = pd.read_json(outputs_folder + human_eval_file_name)\n",
        "  df.columns = [\"t0\", \"t1\", \"t2\", \"t3\", \"t4\"]\n",
        "  return df\n",
        "\n",
        "def get_human_eval_15b_df(human_eval_15b_file_name):\n",
        "  df = pd.read_json(outputs_folder + human_eval_15b_file_name)\n",
        "  df.columns = [\"t0\", \"t1\", \"t2\"]\n",
        "  return df"
      ],
      "metadata": {
        "id": "UoC21xlcqOL1"
      },
      "execution_count": 11,
      "outputs": []
    },
    {
      "cell_type": "markdown",
      "source": [
        "## Set File Names"
      ],
      "metadata": {
        "id": "-1oa57vk2H0D"
      }
    },
    {
      "cell_type": "code",
      "source": [
        "mbpp_df = get_mbpp_df(\"final_eval_results_mbpp.json\")\n",
        "mbpp_df.head()"
      ],
      "metadata": {
        "colab": {
          "base_uri": "https://localhost:8080/",
          "height": 206
        },
        "id": "mvr7Z0BbqiiR",
        "outputId": "cdd7f394-ad46-42cc-9f42-fefb41a505ca"
      },
      "execution_count": 12,
      "outputs": [
        {
          "output_type": "execute_result",
          "data": {
            "text/plain": [
              "                t0      t1               t2\n",
              "0           Passed  Passed           Failed\n",
              "1           Failed  Failed  ExecutionFailed\n",
              "2  ExecutionFailed  Failed  ExecutionFailed\n",
              "3           Failed  Passed           Failed\n",
              "4           Passed  Passed           Passed"
            ],
            "text/html": [
              "\n",
              "  <div id=\"df-a3b01e24-6bbc-4fbb-befa-4505d76d157c\" class=\"colab-df-container\">\n",
              "    <div>\n",
              "<style scoped>\n",
              "    .dataframe tbody tr th:only-of-type {\n",
              "        vertical-align: middle;\n",
              "    }\n",
              "\n",
              "    .dataframe tbody tr th {\n",
              "        vertical-align: top;\n",
              "    }\n",
              "\n",
              "    .dataframe thead th {\n",
              "        text-align: right;\n",
              "    }\n",
              "</style>\n",
              "<table border=\"1\" class=\"dataframe\">\n",
              "  <thead>\n",
              "    <tr style=\"text-align: right;\">\n",
              "      <th></th>\n",
              "      <th>t0</th>\n",
              "      <th>t1</th>\n",
              "      <th>t2</th>\n",
              "    </tr>\n",
              "  </thead>\n",
              "  <tbody>\n",
              "    <tr>\n",
              "      <th>0</th>\n",
              "      <td>Passed</td>\n",
              "      <td>Passed</td>\n",
              "      <td>Failed</td>\n",
              "    </tr>\n",
              "    <tr>\n",
              "      <th>1</th>\n",
              "      <td>Failed</td>\n",
              "      <td>Failed</td>\n",
              "      <td>ExecutionFailed</td>\n",
              "    </tr>\n",
              "    <tr>\n",
              "      <th>2</th>\n",
              "      <td>ExecutionFailed</td>\n",
              "      <td>Failed</td>\n",
              "      <td>ExecutionFailed</td>\n",
              "    </tr>\n",
              "    <tr>\n",
              "      <th>3</th>\n",
              "      <td>Failed</td>\n",
              "      <td>Passed</td>\n",
              "      <td>Failed</td>\n",
              "    </tr>\n",
              "    <tr>\n",
              "      <th>4</th>\n",
              "      <td>Passed</td>\n",
              "      <td>Passed</td>\n",
              "      <td>Passed</td>\n",
              "    </tr>\n",
              "  </tbody>\n",
              "</table>\n",
              "</div>\n",
              "    <div class=\"colab-df-buttons\">\n",
              "\n",
              "  <div class=\"colab-df-container\">\n",
              "    <button class=\"colab-df-convert\" onclick=\"convertToInteractive('df-a3b01e24-6bbc-4fbb-befa-4505d76d157c')\"\n",
              "            title=\"Convert this dataframe to an interactive table.\"\n",
              "            style=\"display:none;\">\n",
              "\n",
              "  <svg xmlns=\"http://www.w3.org/2000/svg\" height=\"24px\" viewBox=\"0 -960 960 960\">\n",
              "    <path d=\"M120-120v-720h720v720H120Zm60-500h600v-160H180v160Zm220 220h160v-160H400v160Zm0 220h160v-160H400v160ZM180-400h160v-160H180v160Zm440 0h160v-160H620v160ZM180-180h160v-160H180v160Zm440 0h160v-160H620v160Z\"/>\n",
              "  </svg>\n",
              "    </button>\n",
              "\n",
              "  <style>\n",
              "    .colab-df-container {\n",
              "      display:flex;\n",
              "      gap: 12px;\n",
              "    }\n",
              "\n",
              "    .colab-df-convert {\n",
              "      background-color: #E8F0FE;\n",
              "      border: none;\n",
              "      border-radius: 50%;\n",
              "      cursor: pointer;\n",
              "      display: none;\n",
              "      fill: #1967D2;\n",
              "      height: 32px;\n",
              "      padding: 0 0 0 0;\n",
              "      width: 32px;\n",
              "    }\n",
              "\n",
              "    .colab-df-convert:hover {\n",
              "      background-color: #E2EBFA;\n",
              "      box-shadow: 0px 1px 2px rgba(60, 64, 67, 0.3), 0px 1px 3px 1px rgba(60, 64, 67, 0.15);\n",
              "      fill: #174EA6;\n",
              "    }\n",
              "\n",
              "    .colab-df-buttons div {\n",
              "      margin-bottom: 4px;\n",
              "    }\n",
              "\n",
              "    [theme=dark] .colab-df-convert {\n",
              "      background-color: #3B4455;\n",
              "      fill: #D2E3FC;\n",
              "    }\n",
              "\n",
              "    [theme=dark] .colab-df-convert:hover {\n",
              "      background-color: #434B5C;\n",
              "      box-shadow: 0px 1px 3px 1px rgba(0, 0, 0, 0.15);\n",
              "      filter: drop-shadow(0px 1px 2px rgba(0, 0, 0, 0.3));\n",
              "      fill: #FFFFFF;\n",
              "    }\n",
              "  </style>\n",
              "\n",
              "    <script>\n",
              "      const buttonEl =\n",
              "        document.querySelector('#df-a3b01e24-6bbc-4fbb-befa-4505d76d157c button.colab-df-convert');\n",
              "      buttonEl.style.display =\n",
              "        google.colab.kernel.accessAllowed ? 'block' : 'none';\n",
              "\n",
              "      async function convertToInteractive(key) {\n",
              "        const element = document.querySelector('#df-a3b01e24-6bbc-4fbb-befa-4505d76d157c');\n",
              "        const dataTable =\n",
              "          await google.colab.kernel.invokeFunction('convertToInteractive',\n",
              "                                                    [key], {});\n",
              "        if (!dataTable) return;\n",
              "\n",
              "        const docLinkHtml = 'Like what you see? Visit the ' +\n",
              "          '<a target=\"_blank\" href=https://colab.research.google.com/notebooks/data_table.ipynb>data table notebook</a>'\n",
              "          + ' to learn more about interactive tables.';\n",
              "        element.innerHTML = '';\n",
              "        dataTable['output_type'] = 'display_data';\n",
              "        await google.colab.output.renderOutput(dataTable, element);\n",
              "        const docLink = document.createElement('div');\n",
              "        docLink.innerHTML = docLinkHtml;\n",
              "        element.appendChild(docLink);\n",
              "      }\n",
              "    </script>\n",
              "  </div>\n",
              "\n",
              "\n",
              "<div id=\"df-0d4685e5-95ab-4b00-8c2c-82af17629d5d\">\n",
              "  <button class=\"colab-df-quickchart\" onclick=\"quickchart('df-0d4685e5-95ab-4b00-8c2c-82af17629d5d')\"\n",
              "            title=\"Suggest charts\"\n",
              "            style=\"display:none;\">\n",
              "\n",
              "<svg xmlns=\"http://www.w3.org/2000/svg\" height=\"24px\"viewBox=\"0 0 24 24\"\n",
              "     width=\"24px\">\n",
              "    <g>\n",
              "        <path d=\"M19 3H5c-1.1 0-2 .9-2 2v14c0 1.1.9 2 2 2h14c1.1 0 2-.9 2-2V5c0-1.1-.9-2-2-2zM9 17H7v-7h2v7zm4 0h-2V7h2v10zm4 0h-2v-4h2v4z\"/>\n",
              "    </g>\n",
              "</svg>\n",
              "  </button>\n",
              "\n",
              "<style>\n",
              "  .colab-df-quickchart {\n",
              "      --bg-color: #E8F0FE;\n",
              "      --fill-color: #1967D2;\n",
              "      --hover-bg-color: #E2EBFA;\n",
              "      --hover-fill-color: #174EA6;\n",
              "      --disabled-fill-color: #AAA;\n",
              "      --disabled-bg-color: #DDD;\n",
              "  }\n",
              "\n",
              "  [theme=dark] .colab-df-quickchart {\n",
              "      --bg-color: #3B4455;\n",
              "      --fill-color: #D2E3FC;\n",
              "      --hover-bg-color: #434B5C;\n",
              "      --hover-fill-color: #FFFFFF;\n",
              "      --disabled-bg-color: #3B4455;\n",
              "      --disabled-fill-color: #666;\n",
              "  }\n",
              "\n",
              "  .colab-df-quickchart {\n",
              "    background-color: var(--bg-color);\n",
              "    border: none;\n",
              "    border-radius: 50%;\n",
              "    cursor: pointer;\n",
              "    display: none;\n",
              "    fill: var(--fill-color);\n",
              "    height: 32px;\n",
              "    padding: 0;\n",
              "    width: 32px;\n",
              "  }\n",
              "\n",
              "  .colab-df-quickchart:hover {\n",
              "    background-color: var(--hover-bg-color);\n",
              "    box-shadow: 0 1px 2px rgba(60, 64, 67, 0.3), 0 1px 3px 1px rgba(60, 64, 67, 0.15);\n",
              "    fill: var(--button-hover-fill-color);\n",
              "  }\n",
              "\n",
              "  .colab-df-quickchart-complete:disabled,\n",
              "  .colab-df-quickchart-complete:disabled:hover {\n",
              "    background-color: var(--disabled-bg-color);\n",
              "    fill: var(--disabled-fill-color);\n",
              "    box-shadow: none;\n",
              "  }\n",
              "\n",
              "  .colab-df-spinner {\n",
              "    border: 2px solid var(--fill-color);\n",
              "    border-color: transparent;\n",
              "    border-bottom-color: var(--fill-color);\n",
              "    animation:\n",
              "      spin 1s steps(1) infinite;\n",
              "  }\n",
              "\n",
              "  @keyframes spin {\n",
              "    0% {\n",
              "      border-color: transparent;\n",
              "      border-bottom-color: var(--fill-color);\n",
              "      border-left-color: var(--fill-color);\n",
              "    }\n",
              "    20% {\n",
              "      border-color: transparent;\n",
              "      border-left-color: var(--fill-color);\n",
              "      border-top-color: var(--fill-color);\n",
              "    }\n",
              "    30% {\n",
              "      border-color: transparent;\n",
              "      border-left-color: var(--fill-color);\n",
              "      border-top-color: var(--fill-color);\n",
              "      border-right-color: var(--fill-color);\n",
              "    }\n",
              "    40% {\n",
              "      border-color: transparent;\n",
              "      border-right-color: var(--fill-color);\n",
              "      border-top-color: var(--fill-color);\n",
              "    }\n",
              "    60% {\n",
              "      border-color: transparent;\n",
              "      border-right-color: var(--fill-color);\n",
              "    }\n",
              "    80% {\n",
              "      border-color: transparent;\n",
              "      border-right-color: var(--fill-color);\n",
              "      border-bottom-color: var(--fill-color);\n",
              "    }\n",
              "    90% {\n",
              "      border-color: transparent;\n",
              "      border-bottom-color: var(--fill-color);\n",
              "    }\n",
              "  }\n",
              "</style>\n",
              "\n",
              "  <script>\n",
              "    async function quickchart(key) {\n",
              "      const quickchartButtonEl =\n",
              "        document.querySelector('#' + key + ' button');\n",
              "      quickchartButtonEl.disabled = true;  // To prevent multiple clicks.\n",
              "      quickchartButtonEl.classList.add('colab-df-spinner');\n",
              "      try {\n",
              "        const charts = await google.colab.kernel.invokeFunction(\n",
              "            'suggestCharts', [key], {});\n",
              "      } catch (error) {\n",
              "        console.error('Error during call to suggestCharts:', error);\n",
              "      }\n",
              "      quickchartButtonEl.classList.remove('colab-df-spinner');\n",
              "      quickchartButtonEl.classList.add('colab-df-quickchart-complete');\n",
              "    }\n",
              "    (() => {\n",
              "      let quickchartButtonEl =\n",
              "        document.querySelector('#df-0d4685e5-95ab-4b00-8c2c-82af17629d5d button');\n",
              "      quickchartButtonEl.style.display =\n",
              "        google.colab.kernel.accessAllowed ? 'block' : 'none';\n",
              "    })();\n",
              "  </script>\n",
              "</div>\n",
              "\n",
              "    </div>\n",
              "  </div>\n"
            ],
            "application/vnd.google.colaboratory.intrinsic+json": {
              "type": "dataframe",
              "variable_name": "mbpp_df",
              "summary": "{\n  \"name\": \"mbpp_df\",\n  \"rows\": 257,\n  \"fields\": [\n    {\n      \"column\": \"t0\",\n      \"properties\": {\n        \"dtype\": \"category\",\n        \"num_unique_values\": 3,\n        \"samples\": [\n          \"Passed\",\n          \"Failed\",\n          \"ExecutionFailed\"\n        ],\n        \"semantic_type\": \"\",\n        \"description\": \"\"\n      }\n    },\n    {\n      \"column\": \"t1\",\n      \"properties\": {\n        \"dtype\": \"category\",\n        \"num_unique_values\": 3,\n        \"samples\": [\n          \"Passed\",\n          \"Failed\",\n          \"ExecutionFailed\"\n        ],\n        \"semantic_type\": \"\",\n        \"description\": \"\"\n      }\n    },\n    {\n      \"column\": \"t2\",\n      \"properties\": {\n        \"dtype\": \"category\",\n        \"num_unique_values\": 3,\n        \"samples\": [\n          \"Failed\",\n          \"ExecutionFailed\",\n          \"Passed\"\n        ],\n        \"semantic_type\": \"\",\n        \"description\": \"\"\n      }\n    }\n  ]\n}"
            }
          },
          "metadata": {},
          "execution_count": 12
        }
      ]
    },
    {
      "cell_type": "code",
      "source": [
        "human_eval_df = get_human_eval_df(\"final_eval_results_human_eval.json\")\n",
        "human_eval_df.head()"
      ],
      "metadata": {
        "colab": {
          "base_uri": "https://localhost:8080/",
          "height": 206
        },
        "id": "thxmkVI6rWTA",
        "outputId": "bd7917aa-0297-4527-b22f-d92b899cf82d"
      },
      "execution_count": 13,
      "outputs": [
        {
          "output_type": "execute_result",
          "data": {
            "text/plain": [
              "                t0               t1      t2               t3      t4\n",
              "0  ExecutionFailed           Failed  Passed           Passed  Failed\n",
              "1           Failed           Failed  Failed           Failed  Failed\n",
              "2           Passed  ExecutionFailed  Passed  ExecutionFailed  Passed\n",
              "3           Passed           Passed  Passed           Failed  Passed\n",
              "4           Passed           Passed  Passed           Passed  Passed"
            ],
            "text/html": [
              "\n",
              "  <div id=\"df-ca32831e-d70c-48aa-bb3d-248a30bad16c\" class=\"colab-df-container\">\n",
              "    <div>\n",
              "<style scoped>\n",
              "    .dataframe tbody tr th:only-of-type {\n",
              "        vertical-align: middle;\n",
              "    }\n",
              "\n",
              "    .dataframe tbody tr th {\n",
              "        vertical-align: top;\n",
              "    }\n",
              "\n",
              "    .dataframe thead th {\n",
              "        text-align: right;\n",
              "    }\n",
              "</style>\n",
              "<table border=\"1\" class=\"dataframe\">\n",
              "  <thead>\n",
              "    <tr style=\"text-align: right;\">\n",
              "      <th></th>\n",
              "      <th>t0</th>\n",
              "      <th>t1</th>\n",
              "      <th>t2</th>\n",
              "      <th>t3</th>\n",
              "      <th>t4</th>\n",
              "    </tr>\n",
              "  </thead>\n",
              "  <tbody>\n",
              "    <tr>\n",
              "      <th>0</th>\n",
              "      <td>ExecutionFailed</td>\n",
              "      <td>Failed</td>\n",
              "      <td>Passed</td>\n",
              "      <td>Passed</td>\n",
              "      <td>Failed</td>\n",
              "    </tr>\n",
              "    <tr>\n",
              "      <th>1</th>\n",
              "      <td>Failed</td>\n",
              "      <td>Failed</td>\n",
              "      <td>Failed</td>\n",
              "      <td>Failed</td>\n",
              "      <td>Failed</td>\n",
              "    </tr>\n",
              "    <tr>\n",
              "      <th>2</th>\n",
              "      <td>Passed</td>\n",
              "      <td>ExecutionFailed</td>\n",
              "      <td>Passed</td>\n",
              "      <td>ExecutionFailed</td>\n",
              "      <td>Passed</td>\n",
              "    </tr>\n",
              "    <tr>\n",
              "      <th>3</th>\n",
              "      <td>Passed</td>\n",
              "      <td>Passed</td>\n",
              "      <td>Passed</td>\n",
              "      <td>Failed</td>\n",
              "      <td>Passed</td>\n",
              "    </tr>\n",
              "    <tr>\n",
              "      <th>4</th>\n",
              "      <td>Passed</td>\n",
              "      <td>Passed</td>\n",
              "      <td>Passed</td>\n",
              "      <td>Passed</td>\n",
              "      <td>Passed</td>\n",
              "    </tr>\n",
              "  </tbody>\n",
              "</table>\n",
              "</div>\n",
              "    <div class=\"colab-df-buttons\">\n",
              "\n",
              "  <div class=\"colab-df-container\">\n",
              "    <button class=\"colab-df-convert\" onclick=\"convertToInteractive('df-ca32831e-d70c-48aa-bb3d-248a30bad16c')\"\n",
              "            title=\"Convert this dataframe to an interactive table.\"\n",
              "            style=\"display:none;\">\n",
              "\n",
              "  <svg xmlns=\"http://www.w3.org/2000/svg\" height=\"24px\" viewBox=\"0 -960 960 960\">\n",
              "    <path d=\"M120-120v-720h720v720H120Zm60-500h600v-160H180v160Zm220 220h160v-160H400v160Zm0 220h160v-160H400v160ZM180-400h160v-160H180v160Zm440 0h160v-160H620v160ZM180-180h160v-160H180v160Zm440 0h160v-160H620v160Z\"/>\n",
              "  </svg>\n",
              "    </button>\n",
              "\n",
              "  <style>\n",
              "    .colab-df-container {\n",
              "      display:flex;\n",
              "      gap: 12px;\n",
              "    }\n",
              "\n",
              "    .colab-df-convert {\n",
              "      background-color: #E8F0FE;\n",
              "      border: none;\n",
              "      border-radius: 50%;\n",
              "      cursor: pointer;\n",
              "      display: none;\n",
              "      fill: #1967D2;\n",
              "      height: 32px;\n",
              "      padding: 0 0 0 0;\n",
              "      width: 32px;\n",
              "    }\n",
              "\n",
              "    .colab-df-convert:hover {\n",
              "      background-color: #E2EBFA;\n",
              "      box-shadow: 0px 1px 2px rgba(60, 64, 67, 0.3), 0px 1px 3px 1px rgba(60, 64, 67, 0.15);\n",
              "      fill: #174EA6;\n",
              "    }\n",
              "\n",
              "    .colab-df-buttons div {\n",
              "      margin-bottom: 4px;\n",
              "    }\n",
              "\n",
              "    [theme=dark] .colab-df-convert {\n",
              "      background-color: #3B4455;\n",
              "      fill: #D2E3FC;\n",
              "    }\n",
              "\n",
              "    [theme=dark] .colab-df-convert:hover {\n",
              "      background-color: #434B5C;\n",
              "      box-shadow: 0px 1px 3px 1px rgba(0, 0, 0, 0.15);\n",
              "      filter: drop-shadow(0px 1px 2px rgba(0, 0, 0, 0.3));\n",
              "      fill: #FFFFFF;\n",
              "    }\n",
              "  </style>\n",
              "\n",
              "    <script>\n",
              "      const buttonEl =\n",
              "        document.querySelector('#df-ca32831e-d70c-48aa-bb3d-248a30bad16c button.colab-df-convert');\n",
              "      buttonEl.style.display =\n",
              "        google.colab.kernel.accessAllowed ? 'block' : 'none';\n",
              "\n",
              "      async function convertToInteractive(key) {\n",
              "        const element = document.querySelector('#df-ca32831e-d70c-48aa-bb3d-248a30bad16c');\n",
              "        const dataTable =\n",
              "          await google.colab.kernel.invokeFunction('convertToInteractive',\n",
              "                                                    [key], {});\n",
              "        if (!dataTable) return;\n",
              "\n",
              "        const docLinkHtml = 'Like what you see? Visit the ' +\n",
              "          '<a target=\"_blank\" href=https://colab.research.google.com/notebooks/data_table.ipynb>data table notebook</a>'\n",
              "          + ' to learn more about interactive tables.';\n",
              "        element.innerHTML = '';\n",
              "        dataTable['output_type'] = 'display_data';\n",
              "        await google.colab.output.renderOutput(dataTable, element);\n",
              "        const docLink = document.createElement('div');\n",
              "        docLink.innerHTML = docLinkHtml;\n",
              "        element.appendChild(docLink);\n",
              "      }\n",
              "    </script>\n",
              "  </div>\n",
              "\n",
              "\n",
              "<div id=\"df-0d5561d4-7b8b-4245-94cc-ce24d206c122\">\n",
              "  <button class=\"colab-df-quickchart\" onclick=\"quickchart('df-0d5561d4-7b8b-4245-94cc-ce24d206c122')\"\n",
              "            title=\"Suggest charts\"\n",
              "            style=\"display:none;\">\n",
              "\n",
              "<svg xmlns=\"http://www.w3.org/2000/svg\" height=\"24px\"viewBox=\"0 0 24 24\"\n",
              "     width=\"24px\">\n",
              "    <g>\n",
              "        <path d=\"M19 3H5c-1.1 0-2 .9-2 2v14c0 1.1.9 2 2 2h14c1.1 0 2-.9 2-2V5c0-1.1-.9-2-2-2zM9 17H7v-7h2v7zm4 0h-2V7h2v10zm4 0h-2v-4h2v4z\"/>\n",
              "    </g>\n",
              "</svg>\n",
              "  </button>\n",
              "\n",
              "<style>\n",
              "  .colab-df-quickchart {\n",
              "      --bg-color: #E8F0FE;\n",
              "      --fill-color: #1967D2;\n",
              "      --hover-bg-color: #E2EBFA;\n",
              "      --hover-fill-color: #174EA6;\n",
              "      --disabled-fill-color: #AAA;\n",
              "      --disabled-bg-color: #DDD;\n",
              "  }\n",
              "\n",
              "  [theme=dark] .colab-df-quickchart {\n",
              "      --bg-color: #3B4455;\n",
              "      --fill-color: #D2E3FC;\n",
              "      --hover-bg-color: #434B5C;\n",
              "      --hover-fill-color: #FFFFFF;\n",
              "      --disabled-bg-color: #3B4455;\n",
              "      --disabled-fill-color: #666;\n",
              "  }\n",
              "\n",
              "  .colab-df-quickchart {\n",
              "    background-color: var(--bg-color);\n",
              "    border: none;\n",
              "    border-radius: 50%;\n",
              "    cursor: pointer;\n",
              "    display: none;\n",
              "    fill: var(--fill-color);\n",
              "    height: 32px;\n",
              "    padding: 0;\n",
              "    width: 32px;\n",
              "  }\n",
              "\n",
              "  .colab-df-quickchart:hover {\n",
              "    background-color: var(--hover-bg-color);\n",
              "    box-shadow: 0 1px 2px rgba(60, 64, 67, 0.3), 0 1px 3px 1px rgba(60, 64, 67, 0.15);\n",
              "    fill: var(--button-hover-fill-color);\n",
              "  }\n",
              "\n",
              "  .colab-df-quickchart-complete:disabled,\n",
              "  .colab-df-quickchart-complete:disabled:hover {\n",
              "    background-color: var(--disabled-bg-color);\n",
              "    fill: var(--disabled-fill-color);\n",
              "    box-shadow: none;\n",
              "  }\n",
              "\n",
              "  .colab-df-spinner {\n",
              "    border: 2px solid var(--fill-color);\n",
              "    border-color: transparent;\n",
              "    border-bottom-color: var(--fill-color);\n",
              "    animation:\n",
              "      spin 1s steps(1) infinite;\n",
              "  }\n",
              "\n",
              "  @keyframes spin {\n",
              "    0% {\n",
              "      border-color: transparent;\n",
              "      border-bottom-color: var(--fill-color);\n",
              "      border-left-color: var(--fill-color);\n",
              "    }\n",
              "    20% {\n",
              "      border-color: transparent;\n",
              "      border-left-color: var(--fill-color);\n",
              "      border-top-color: var(--fill-color);\n",
              "    }\n",
              "    30% {\n",
              "      border-color: transparent;\n",
              "      border-left-color: var(--fill-color);\n",
              "      border-top-color: var(--fill-color);\n",
              "      border-right-color: var(--fill-color);\n",
              "    }\n",
              "    40% {\n",
              "      border-color: transparent;\n",
              "      border-right-color: var(--fill-color);\n",
              "      border-top-color: var(--fill-color);\n",
              "    }\n",
              "    60% {\n",
              "      border-color: transparent;\n",
              "      border-right-color: var(--fill-color);\n",
              "    }\n",
              "    80% {\n",
              "      border-color: transparent;\n",
              "      border-right-color: var(--fill-color);\n",
              "      border-bottom-color: var(--fill-color);\n",
              "    }\n",
              "    90% {\n",
              "      border-color: transparent;\n",
              "      border-bottom-color: var(--fill-color);\n",
              "    }\n",
              "  }\n",
              "</style>\n",
              "\n",
              "  <script>\n",
              "    async function quickchart(key) {\n",
              "      const quickchartButtonEl =\n",
              "        document.querySelector('#' + key + ' button');\n",
              "      quickchartButtonEl.disabled = true;  // To prevent multiple clicks.\n",
              "      quickchartButtonEl.classList.add('colab-df-spinner');\n",
              "      try {\n",
              "        const charts = await google.colab.kernel.invokeFunction(\n",
              "            'suggestCharts', [key], {});\n",
              "      } catch (error) {\n",
              "        console.error('Error during call to suggestCharts:', error);\n",
              "      }\n",
              "      quickchartButtonEl.classList.remove('colab-df-spinner');\n",
              "      quickchartButtonEl.classList.add('colab-df-quickchart-complete');\n",
              "    }\n",
              "    (() => {\n",
              "      let quickchartButtonEl =\n",
              "        document.querySelector('#df-0d5561d4-7b8b-4245-94cc-ce24d206c122 button');\n",
              "      quickchartButtonEl.style.display =\n",
              "        google.colab.kernel.accessAllowed ? 'block' : 'none';\n",
              "    })();\n",
              "  </script>\n",
              "</div>\n",
              "\n",
              "    </div>\n",
              "  </div>\n"
            ],
            "application/vnd.google.colaboratory.intrinsic+json": {
              "type": "dataframe",
              "variable_name": "human_eval_df",
              "summary": "{\n  \"name\": \"human_eval_df\",\n  \"rows\": 164,\n  \"fields\": [\n    {\n      \"column\": \"t0\",\n      \"properties\": {\n        \"dtype\": \"category\",\n        \"num_unique_values\": 3,\n        \"samples\": [\n          \"ExecutionFailed\",\n          \"Failed\",\n          \"Passed\"\n        ],\n        \"semantic_type\": \"\",\n        \"description\": \"\"\n      }\n    },\n    {\n      \"column\": \"t1\",\n      \"properties\": {\n        \"dtype\": \"category\",\n        \"num_unique_values\": 3,\n        \"samples\": [\n          \"Failed\",\n          \"ExecutionFailed\",\n          \"Passed\"\n        ],\n        \"semantic_type\": \"\",\n        \"description\": \"\"\n      }\n    },\n    {\n      \"column\": \"t2\",\n      \"properties\": {\n        \"dtype\": \"category\",\n        \"num_unique_values\": 3,\n        \"samples\": [\n          \"Passed\",\n          \"Failed\",\n          \"ExecutionFailed\"\n        ],\n        \"semantic_type\": \"\",\n        \"description\": \"\"\n      }\n    },\n    {\n      \"column\": \"t3\",\n      \"properties\": {\n        \"dtype\": \"category\",\n        \"num_unique_values\": 3,\n        \"samples\": [\n          \"Passed\",\n          \"Failed\",\n          \"ExecutionFailed\"\n        ],\n        \"semantic_type\": \"\",\n        \"description\": \"\"\n      }\n    },\n    {\n      \"column\": \"t4\",\n      \"properties\": {\n        \"dtype\": \"category\",\n        \"num_unique_values\": 3,\n        \"samples\": [\n          \"Failed\",\n          \"Passed\",\n          \"ExecutionFailed\"\n        ],\n        \"semantic_type\": \"\",\n        \"description\": \"\"\n      }\n    }\n  ]\n}"
            }
          },
          "metadata": {},
          "execution_count": 13
        }
      ]
    },
    {
      "cell_type": "code",
      "source": [
        "human_eval_15b_df = get_human_eval_15b_df(\"final_eval_results_human_eval_15b.json\")\n",
        "human_eval_15b_df.head()"
      ],
      "metadata": {
        "colab": {
          "base_uri": "https://localhost:8080/",
          "height": 206
        },
        "id": "pJcCv2fUrhwi",
        "outputId": "5e01f285-9e8e-4629-ee50-78718a75bce7"
      },
      "execution_count": 14,
      "outputs": [
        {
          "output_type": "execute_result",
          "data": {
            "text/plain": [
              "       t0      t1      t2\n",
              "0    None    None    None\n",
              "1    None    None    None\n",
              "2    None    None    None\n",
              "3  Passed  Passed  Passed\n",
              "4  Passed  Passed  Passed"
            ],
            "text/html": [
              "\n",
              "  <div id=\"df-cedb7a66-ac02-4e51-bb00-f050015db0d9\" class=\"colab-df-container\">\n",
              "    <div>\n",
              "<style scoped>\n",
              "    .dataframe tbody tr th:only-of-type {\n",
              "        vertical-align: middle;\n",
              "    }\n",
              "\n",
              "    .dataframe tbody tr th {\n",
              "        vertical-align: top;\n",
              "    }\n",
              "\n",
              "    .dataframe thead th {\n",
              "        text-align: right;\n",
              "    }\n",
              "</style>\n",
              "<table border=\"1\" class=\"dataframe\">\n",
              "  <thead>\n",
              "    <tr style=\"text-align: right;\">\n",
              "      <th></th>\n",
              "      <th>t0</th>\n",
              "      <th>t1</th>\n",
              "      <th>t2</th>\n",
              "    </tr>\n",
              "  </thead>\n",
              "  <tbody>\n",
              "    <tr>\n",
              "      <th>0</th>\n",
              "      <td>None</td>\n",
              "      <td>None</td>\n",
              "      <td>None</td>\n",
              "    </tr>\n",
              "    <tr>\n",
              "      <th>1</th>\n",
              "      <td>None</td>\n",
              "      <td>None</td>\n",
              "      <td>None</td>\n",
              "    </tr>\n",
              "    <tr>\n",
              "      <th>2</th>\n",
              "      <td>None</td>\n",
              "      <td>None</td>\n",
              "      <td>None</td>\n",
              "    </tr>\n",
              "    <tr>\n",
              "      <th>3</th>\n",
              "      <td>Passed</td>\n",
              "      <td>Passed</td>\n",
              "      <td>Passed</td>\n",
              "    </tr>\n",
              "    <tr>\n",
              "      <th>4</th>\n",
              "      <td>Passed</td>\n",
              "      <td>Passed</td>\n",
              "      <td>Passed</td>\n",
              "    </tr>\n",
              "  </tbody>\n",
              "</table>\n",
              "</div>\n",
              "    <div class=\"colab-df-buttons\">\n",
              "\n",
              "  <div class=\"colab-df-container\">\n",
              "    <button class=\"colab-df-convert\" onclick=\"convertToInteractive('df-cedb7a66-ac02-4e51-bb00-f050015db0d9')\"\n",
              "            title=\"Convert this dataframe to an interactive table.\"\n",
              "            style=\"display:none;\">\n",
              "\n",
              "  <svg xmlns=\"http://www.w3.org/2000/svg\" height=\"24px\" viewBox=\"0 -960 960 960\">\n",
              "    <path d=\"M120-120v-720h720v720H120Zm60-500h600v-160H180v160Zm220 220h160v-160H400v160Zm0 220h160v-160H400v160ZM180-400h160v-160H180v160Zm440 0h160v-160H620v160ZM180-180h160v-160H180v160Zm440 0h160v-160H620v160Z\"/>\n",
              "  </svg>\n",
              "    </button>\n",
              "\n",
              "  <style>\n",
              "    .colab-df-container {\n",
              "      display:flex;\n",
              "      gap: 12px;\n",
              "    }\n",
              "\n",
              "    .colab-df-convert {\n",
              "      background-color: #E8F0FE;\n",
              "      border: none;\n",
              "      border-radius: 50%;\n",
              "      cursor: pointer;\n",
              "      display: none;\n",
              "      fill: #1967D2;\n",
              "      height: 32px;\n",
              "      padding: 0 0 0 0;\n",
              "      width: 32px;\n",
              "    }\n",
              "\n",
              "    .colab-df-convert:hover {\n",
              "      background-color: #E2EBFA;\n",
              "      box-shadow: 0px 1px 2px rgba(60, 64, 67, 0.3), 0px 1px 3px 1px rgba(60, 64, 67, 0.15);\n",
              "      fill: #174EA6;\n",
              "    }\n",
              "\n",
              "    .colab-df-buttons div {\n",
              "      margin-bottom: 4px;\n",
              "    }\n",
              "\n",
              "    [theme=dark] .colab-df-convert {\n",
              "      background-color: #3B4455;\n",
              "      fill: #D2E3FC;\n",
              "    }\n",
              "\n",
              "    [theme=dark] .colab-df-convert:hover {\n",
              "      background-color: #434B5C;\n",
              "      box-shadow: 0px 1px 3px 1px rgba(0, 0, 0, 0.15);\n",
              "      filter: drop-shadow(0px 1px 2px rgba(0, 0, 0, 0.3));\n",
              "      fill: #FFFFFF;\n",
              "    }\n",
              "  </style>\n",
              "\n",
              "    <script>\n",
              "      const buttonEl =\n",
              "        document.querySelector('#df-cedb7a66-ac02-4e51-bb00-f050015db0d9 button.colab-df-convert');\n",
              "      buttonEl.style.display =\n",
              "        google.colab.kernel.accessAllowed ? 'block' : 'none';\n",
              "\n",
              "      async function convertToInteractive(key) {\n",
              "        const element = document.querySelector('#df-cedb7a66-ac02-4e51-bb00-f050015db0d9');\n",
              "        const dataTable =\n",
              "          await google.colab.kernel.invokeFunction('convertToInteractive',\n",
              "                                                    [key], {});\n",
              "        if (!dataTable) return;\n",
              "\n",
              "        const docLinkHtml = 'Like what you see? Visit the ' +\n",
              "          '<a target=\"_blank\" href=https://colab.research.google.com/notebooks/data_table.ipynb>data table notebook</a>'\n",
              "          + ' to learn more about interactive tables.';\n",
              "        element.innerHTML = '';\n",
              "        dataTable['output_type'] = 'display_data';\n",
              "        await google.colab.output.renderOutput(dataTable, element);\n",
              "        const docLink = document.createElement('div');\n",
              "        docLink.innerHTML = docLinkHtml;\n",
              "        element.appendChild(docLink);\n",
              "      }\n",
              "    </script>\n",
              "  </div>\n",
              "\n",
              "\n",
              "<div id=\"df-e1f8d769-4a7e-44c3-98d0-c3356503b534\">\n",
              "  <button class=\"colab-df-quickchart\" onclick=\"quickchart('df-e1f8d769-4a7e-44c3-98d0-c3356503b534')\"\n",
              "            title=\"Suggest charts\"\n",
              "            style=\"display:none;\">\n",
              "\n",
              "<svg xmlns=\"http://www.w3.org/2000/svg\" height=\"24px\"viewBox=\"0 0 24 24\"\n",
              "     width=\"24px\">\n",
              "    <g>\n",
              "        <path d=\"M19 3H5c-1.1 0-2 .9-2 2v14c0 1.1.9 2 2 2h14c1.1 0 2-.9 2-2V5c0-1.1-.9-2-2-2zM9 17H7v-7h2v7zm4 0h-2V7h2v10zm4 0h-2v-4h2v4z\"/>\n",
              "    </g>\n",
              "</svg>\n",
              "  </button>\n",
              "\n",
              "<style>\n",
              "  .colab-df-quickchart {\n",
              "      --bg-color: #E8F0FE;\n",
              "      --fill-color: #1967D2;\n",
              "      --hover-bg-color: #E2EBFA;\n",
              "      --hover-fill-color: #174EA6;\n",
              "      --disabled-fill-color: #AAA;\n",
              "      --disabled-bg-color: #DDD;\n",
              "  }\n",
              "\n",
              "  [theme=dark] .colab-df-quickchart {\n",
              "      --bg-color: #3B4455;\n",
              "      --fill-color: #D2E3FC;\n",
              "      --hover-bg-color: #434B5C;\n",
              "      --hover-fill-color: #FFFFFF;\n",
              "      --disabled-bg-color: #3B4455;\n",
              "      --disabled-fill-color: #666;\n",
              "  }\n",
              "\n",
              "  .colab-df-quickchart {\n",
              "    background-color: var(--bg-color);\n",
              "    border: none;\n",
              "    border-radius: 50%;\n",
              "    cursor: pointer;\n",
              "    display: none;\n",
              "    fill: var(--fill-color);\n",
              "    height: 32px;\n",
              "    padding: 0;\n",
              "    width: 32px;\n",
              "  }\n",
              "\n",
              "  .colab-df-quickchart:hover {\n",
              "    background-color: var(--hover-bg-color);\n",
              "    box-shadow: 0 1px 2px rgba(60, 64, 67, 0.3), 0 1px 3px 1px rgba(60, 64, 67, 0.15);\n",
              "    fill: var(--button-hover-fill-color);\n",
              "  }\n",
              "\n",
              "  .colab-df-quickchart-complete:disabled,\n",
              "  .colab-df-quickchart-complete:disabled:hover {\n",
              "    background-color: var(--disabled-bg-color);\n",
              "    fill: var(--disabled-fill-color);\n",
              "    box-shadow: none;\n",
              "  }\n",
              "\n",
              "  .colab-df-spinner {\n",
              "    border: 2px solid var(--fill-color);\n",
              "    border-color: transparent;\n",
              "    border-bottom-color: var(--fill-color);\n",
              "    animation:\n",
              "      spin 1s steps(1) infinite;\n",
              "  }\n",
              "\n",
              "  @keyframes spin {\n",
              "    0% {\n",
              "      border-color: transparent;\n",
              "      border-bottom-color: var(--fill-color);\n",
              "      border-left-color: var(--fill-color);\n",
              "    }\n",
              "    20% {\n",
              "      border-color: transparent;\n",
              "      border-left-color: var(--fill-color);\n",
              "      border-top-color: var(--fill-color);\n",
              "    }\n",
              "    30% {\n",
              "      border-color: transparent;\n",
              "      border-left-color: var(--fill-color);\n",
              "      border-top-color: var(--fill-color);\n",
              "      border-right-color: var(--fill-color);\n",
              "    }\n",
              "    40% {\n",
              "      border-color: transparent;\n",
              "      border-right-color: var(--fill-color);\n",
              "      border-top-color: var(--fill-color);\n",
              "    }\n",
              "    60% {\n",
              "      border-color: transparent;\n",
              "      border-right-color: var(--fill-color);\n",
              "    }\n",
              "    80% {\n",
              "      border-color: transparent;\n",
              "      border-right-color: var(--fill-color);\n",
              "      border-bottom-color: var(--fill-color);\n",
              "    }\n",
              "    90% {\n",
              "      border-color: transparent;\n",
              "      border-bottom-color: var(--fill-color);\n",
              "    }\n",
              "  }\n",
              "</style>\n",
              "\n",
              "  <script>\n",
              "    async function quickchart(key) {\n",
              "      const quickchartButtonEl =\n",
              "        document.querySelector('#' + key + ' button');\n",
              "      quickchartButtonEl.disabled = true;  // To prevent multiple clicks.\n",
              "      quickchartButtonEl.classList.add('colab-df-spinner');\n",
              "      try {\n",
              "        const charts = await google.colab.kernel.invokeFunction(\n",
              "            'suggestCharts', [key], {});\n",
              "      } catch (error) {\n",
              "        console.error('Error during call to suggestCharts:', error);\n",
              "      }\n",
              "      quickchartButtonEl.classList.remove('colab-df-spinner');\n",
              "      quickchartButtonEl.classList.add('colab-df-quickchart-complete');\n",
              "    }\n",
              "    (() => {\n",
              "      let quickchartButtonEl =\n",
              "        document.querySelector('#df-e1f8d769-4a7e-44c3-98d0-c3356503b534 button');\n",
              "      quickchartButtonEl.style.display =\n",
              "        google.colab.kernel.accessAllowed ? 'block' : 'none';\n",
              "    })();\n",
              "  </script>\n",
              "</div>\n",
              "\n",
              "    </div>\n",
              "  </div>\n"
            ],
            "application/vnd.google.colaboratory.intrinsic+json": {
              "type": "dataframe",
              "variable_name": "human_eval_15b_df",
              "summary": "{\n  \"name\": \"human_eval_15b_df\",\n  \"rows\": 164,\n  \"fields\": [\n    {\n      \"column\": \"t0\",\n      \"properties\": {\n        \"dtype\": \"category\",\n        \"num_unique_values\": 3,\n        \"samples\": [\n          \"Passed\",\n          \"ExecutionFailed\",\n          \"Failed\"\n        ],\n        \"semantic_type\": \"\",\n        \"description\": \"\"\n      }\n    },\n    {\n      \"column\": \"t1\",\n      \"properties\": {\n        \"dtype\": \"category\",\n        \"num_unique_values\": 3,\n        \"samples\": [\n          \"Passed\",\n          \"ExecutionFailed\",\n          \"Failed\"\n        ],\n        \"semantic_type\": \"\",\n        \"description\": \"\"\n      }\n    },\n    {\n      \"column\": \"t2\",\n      \"properties\": {\n        \"dtype\": \"category\",\n        \"num_unique_values\": 3,\n        \"samples\": [\n          \"Passed\",\n          \"ExecutionFailed\",\n          \"Failed\"\n        ],\n        \"semantic_type\": \"\",\n        \"description\": \"\"\n      }\n    }\n  ]\n}"
            }
          },
          "metadata": {},
          "execution_count": 14
        }
      ]
    },
    {
      "cell_type": "markdown",
      "source": [
        "## Metrics"
      ],
      "metadata": {
        "id": "s0YxRu9V2NOC"
      }
    },
    {
      "cell_type": "code",
      "source": [
        "### Metrics Function Definitions ###\n",
        "dbg = False\n",
        "\n",
        "def dbg_print(msg):\n",
        "  if dbg:\n",
        "    print(msg)\n",
        "\n",
        "def degradation_rate(df, column1, column2):\n",
        "  # Corrected Outputs = Passed @ t2 when Failed at t1\n",
        "  dbg_print(\"\\n--------- Degradation Rate ----------\")\n",
        "  incorrect_outputs_df = df[((df[column2] == 'Failed') | (df[column2] == 'ExecutionFailed')) & (df[column1] == 'Passed')]\n",
        "  dbg_print(incorrect_outputs_df.head())\n",
        "  incorrect_outputs = len(incorrect_outputs_df)\n",
        "  dbg_print(f\"\\nInCorrect Outputs: {incorrect_outputs}\")\n",
        "  total_outputs = len(df)\n",
        "  dbg_print(f\"Total Outputs: {total_outputs}\")\n",
        "  return (incorrect_outputs / total_outputs) * 100\n",
        "\n",
        "def error_reduction_rate(df, column1, column2):\n",
        "  # Corrected Outputs = Passed @ t2 when Failed at t1\n",
        "  dbg_print(\"\\n--------- Error Reduction Rate ----------\")\n",
        "  incorrect_outputs_df = df[((df[column1] == 'Failed') | (df[column1] == 'ExecutionFailed')) & (df[column2] == 'Passed')]\n",
        "  dbg_print(incorrect_outputs_df.head())\n",
        "  incorrect_outputs = len(incorrect_outputs_df)\n",
        "  dbg_print(f\"\\nInCorrect Outputs: {incorrect_outputs}\")\n",
        "  total_outputs = len(df)\n",
        "  dbg_print(f\"Total Outputs: {total_outputs}\")\n",
        "  return (incorrect_outputs / total_outputs) * 100\n",
        "\n",
        "def functional_accuracy(df, column):\n",
        "  dbg_print(\"\\n--------- Functional Accuracy ----------\")\n",
        "  passed_df = df[df[column] == 'Passed']\n",
        "  dbg_print(passed_df.head())\n",
        "  passed_outputs = len(passed_df)\n",
        "  dbg_print(f\"\\nPassed at {column}: {passed_outputs}\")\n",
        "  total_outputs = len(df)\n",
        "  dbg_print(f\"Total Outputs: {total_outputs}\")\n",
        "  return passed_outputs / total_outputs * 100\n",
        "\n",
        "def self_correction_rate(df, column1, column2):\n",
        "  # Corrected Outputs = Passed @ t2 when Failed at t1\n",
        "  dbg_print(\"\\n--------- Self Correction Rate ----------\")\n",
        "  functional_accuracy_1 = functional_accuracy(df, column1)\n",
        "  dbg_print(f\"\\nFunctional Accuracy {column1}: {functional_accuracy_1}\")\n",
        "  functional_accuracy_2 = functional_accuracy(df, column2)\n",
        "  dbg_print(f\"\\nFunctional Accuracy {column2}: {functional_accuracy_2}\")\n",
        "  return functional_accuracy_1 - functional_accuracy_2\n",
        "\n",
        "def tabulate_metrics(dict_dfs, column1, column2):\n",
        "  print(f\"\\n--------- Tabulated Metrics ({column1} -> {column2}) ----------\")\n",
        "\n",
        "  data = {}\n",
        "\n",
        "  for name, df in dict_dfs:\n",
        "    data[name] = [\n",
        "        self_correction_rate(df, column1, column2),\n",
        "        error_reduction_rate(df, column1, column2),\n",
        "        functional_accuracy(df, column1),\n",
        "        degradation_rate(df, column1, column2)\n",
        "      ]\n",
        "\n",
        "\n",
        "  df = pd.DataFrame(data)\n",
        "\n",
        "  df.index = ['Self Correction Rate', 'Error Reduction Rate', 'Functional Accuracy', 'Degradation Rate',]\n",
        "\n",
        "  print(df)\n",
        "\n",
        "def get_pie_chart_data(df, column1, column2):\n",
        "  correct_to_correct = len(df[(df[column1] == 'Passed') & (df[column2] == 'Passed')])\n",
        "  correct_to_incorrect = len(df[(df[column1] == 'Passed') & (df[column2] == 'Failed') | (df[column2] == 'ExecutionFailed')])\n",
        "  incorrect_to_correct = len(df[(df[column1] == 'Failed') | (df[column1] == 'ExecutionFailed') & (df[column2] == 'Passed')])\n",
        "  incorrect_to_incorrect = len(df[(df[column1] == 'Failed') | (df[column1] == 'ExecutionFailed') & (df[column2] == 'Failed') | (df[column2] == 'ExecutionFailed')])\n",
        "\n",
        "  return (np.array([correct_to_correct, correct_to_incorrect, incorrect_to_correct, incorrect_to_incorrect]), ['correct => correct', 'correct => incorrect', 'incorrect => correct', 'incorrect => incorrect'])\n",
        "\n"
      ],
      "metadata": {
        "id": "J1BkEMmdr519"
      },
      "execution_count": 66,
      "outputs": []
    },
    {
      "cell_type": "markdown",
      "source": [
        "### Individual Data"
      ],
      "metadata": {
        "id": "Tv0SKBSJ2Scp"
      }
    },
    {
      "cell_type": "code",
      "source": [
        "columns = ['t1', 't2']\n",
        "print(\"Self Correction Rate: \", self_correction_rate(human_eval_15b_df, columns[0], columns[1]))\n",
        "print(\"Error Reduction Rate: \", error_reduction_rate(human_eval_15b_df, columns[0], columns[1]))\n",
        "print(f\"Functional Accuracy {columns[0]}: \", functional_accuracy(human_eval_15b_df, columns[0]))\n",
        "print(f\"Functional Accuracy {columns[1]}: \", functional_accuracy(human_eval_15b_df, columns[1]))\n",
        "print(\"Degradation Rate: \", degradation_rate(human_eval_15b_df, columns[0], columns[1]))"
      ],
      "metadata": {
        "colab": {
          "base_uri": "https://localhost:8080/"
        },
        "id": "AGL_BkfttEnp",
        "outputId": "5b9c2d88-9697-4621-999a-b28a50c7e3fa"
      },
      "execution_count": 71,
      "outputs": [
        {
          "output_type": "stream",
          "name": "stdout",
          "text": [
            "Self Correction Rate:  -2.439024390243901\n",
            "Error Reduction Rate:  10.365853658536585\n",
            "Functional Accuracy t1:  47.5609756097561\n",
            "Functional Accuracy t2:  50.0\n",
            "Degradation Rate:  7.926829268292683\n"
          ]
        }
      ]
    },
    {
      "cell_type": "code",
      "source": [
        "columns = ['t1', 't2']\n",
        "print(\"Self Correction Rate: \", self_correction_rate(human_eval_df, columns[0], columns[1]))\n",
        "print(\"Error Reduction Rate: \", error_reduction_rate(human_eval_df, columns[0], columns[1]))\n",
        "print(f\"Functional Accuracy {columns[0]}: \", functional_accuracy(human_eval_df, columns[0]))\n",
        "print(f\"Functional Accuracy {columns[1]}: \", functional_accuracy(human_eval_df, columns[1]))\n",
        "print(\"Degradation Rate: \", degradation_rate(human_eval_df, columns[0], columns[1]))"
      ],
      "metadata": {
        "colab": {
          "base_uri": "https://localhost:8080/"
        },
        "id": "ZpRRi06MtKD6",
        "outputId": "2337b992-d574-40a9-bd16-839db97f4125"
      },
      "execution_count": 72,
      "outputs": [
        {
          "output_type": "stream",
          "name": "stdout",
          "text": [
            "Self Correction Rate:  -3.6585365853658516\n",
            "Error Reduction Rate:  13.414634146341465\n",
            "Functional Accuracy t1:  40.243902439024396\n",
            "Functional Accuracy t2:  43.90243902439025\n",
            "Degradation Rate:  9.75609756097561\n"
          ]
        }
      ]
    },
    {
      "cell_type": "code",
      "source": [
        "columns = ['t1', 't2']\n",
        "print(\"Self Correction Rate: \", self_correction_rate(mbpp_df, columns[0], columns[1]))\n",
        "print(\"Error Reduction Rate: \", error_reduction_rate(mbpp_df, columns[0], columns[1]))\n",
        "print(f\"Functional Accuracy {columns[0]}: \", functional_accuracy(mbpp_df, columns[0]))\n",
        "print(f\"Functional Accuracy {columns[1]}: \", functional_accuracy(mbpp_df, columns[1]))\n",
        "print(\"Degradation Rate: \", degradation_rate(mbpp_df, columns[0], columns[1]))"
      ],
      "metadata": {
        "colab": {
          "base_uri": "https://localhost:8080/"
        },
        "id": "9J8Fj6NhxEWU",
        "outputId": "ece833ed-958a-4e14-f12d-dc9ec82d9efa"
      },
      "execution_count": 73,
      "outputs": [
        {
          "output_type": "stream",
          "name": "stdout",
          "text": [
            "Self Correction Rate:  5.05836575875486\n",
            "Error Reduction Rate:  7.782101167315175\n",
            "Functional Accuracy t1:  40.46692607003891\n",
            "Functional Accuracy t2:  35.40856031128405\n",
            "Degradation Rate:  12.840466926070038\n"
          ]
        }
      ]
    },
    {
      "cell_type": "markdown",
      "source": [
        "### Tabulated Data"
      ],
      "metadata": {
        "id": "lf7pvntF2QAg"
      }
    },
    {
      "cell_type": "code",
      "source": [
        "# All tabulated data are percentages (multiplied by 100)\n",
        "tabulate_metrics([(\"Human Eval\", human_eval_df), (\"Human Eval 15B\", human_eval_15b_df), (\"MBPP\", mbpp_df)], 't0', 't1')"
      ],
      "metadata": {
        "colab": {
          "base_uri": "https://localhost:8080/"
        },
        "id": "ygFu41Y4uxB9",
        "outputId": "1fd78b65-bf3a-4e30-b143-dbdda6a76178"
      },
      "execution_count": 39,
      "outputs": [
        {
          "output_type": "stream",
          "name": "stdout",
          "text": [
            "\n",
            "--------- Tabulated Metrics (t0 -> t1) ----------\n",
            "                      Human Eval  Human Eval 15B       MBPP\n",
            "Self Correction Rate    3.658537        0.609756  -6.225681\n",
            "Error Reduction Rate   10.365854        9.146341  14.785992\n",
            "Functional Accuracy    43.902439       48.170732  34.241245\n",
            "Degradation Rate       13.414634        9.756098   8.171206\n"
          ]
        }
      ]
    },
    {
      "cell_type": "code",
      "source": [
        "# All tabulated data are percentages (multiplied by 100)\n",
        "tabulate_metrics([(\"Human Eval\", human_eval_df), (\"Human Eval 15B\", human_eval_15b_df), (\"MBPP\", mbpp_df)], 't1', 't2')"
      ],
      "metadata": {
        "id": "mHM7fIeRwKhB",
        "colab": {
          "base_uri": "https://localhost:8080/"
        },
        "outputId": "3b4702b7-102a-4ab7-c488-7363272284b3"
      },
      "execution_count": 40,
      "outputs": [
        {
          "output_type": "stream",
          "name": "stdout",
          "text": [
            "\n",
            "--------- Tabulated Metrics (t1 -> t2) ----------\n",
            "                      Human Eval  Human Eval 15B       MBPP\n",
            "Self Correction Rate   -3.658537       -2.439024   5.058366\n",
            "Error Reduction Rate   13.414634       10.365854   7.782101\n",
            "Functional Accuracy    40.243902       47.560976  40.466926\n",
            "Degradation Rate        9.756098        7.926829  12.840467\n"
          ]
        }
      ]
    },
    {
      "cell_type": "markdown",
      "source": [
        "## Pie Charts\n"
      ],
      "metadata": {
        "id": "IUPvvTYLq0Mi"
      }
    },
    {
      "cell_type": "markdown",
      "source": [
        "### MBPP"
      ],
      "metadata": {
        "id": "9V5VXRL3u82H"
      }
    },
    {
      "cell_type": "code",
      "source": [
        "t0_to_t1_data, t0_to_t1_names = get_pie_chart_data(mbpp_df, 't0', 't1')\n",
        "t1_to_t2_data, t1_to_t2_names = get_pie_chart_data(mbpp_df, 't1', 't2')\n"
      ],
      "metadata": {
        "id": "SCQhyh_tu82H"
      },
      "execution_count": 20,
      "outputs": []
    },
    {
      "cell_type": "code",
      "source": [
        "fig, ax = plt.subplots()\n",
        "ax.pie(t0_to_t1_data, labels = t0_to_t1_names, autopct='%1.1f%%')\n",
        "ax.set_title(\"MBPP (t1 -> t2)\")\n",
        "plt.show()"
      ],
      "metadata": {
        "colab": {
          "base_uri": "https://localhost:8080/",
          "height": 428
        },
        "outputId": "673a55c8-5374-4bca-9fd5-afbdf0f5e08d",
        "id": "WHKYOgJBu82I"
      },
      "execution_count": 21,
      "outputs": [
        {
          "output_type": "display_data",
          "data": {
            "text/plain": [
              "<Figure size 640x480 with 1 Axes>"
            ],
            "image/png": "[encoded data removed]"
          },
          "metadata": {}
        }
      ]
    },
    {
      "cell_type": "code",
      "source": [
        "fig, ax = plt.subplots()\n",
        "ax.pie(t1_to_t2_data, labels = t1_to_t2_names, autopct='%1.1f%%')\n",
        "ax.set_title(\"Human MBPP (t2 -> t3)\")\n",
        "plt.show()"
      ],
      "metadata": {
        "colab": {
          "base_uri": "https://localhost:8080/",
          "height": 428
        },
        "outputId": "7ce99fa6-ff0a-4432-8b0a-975a343ab788",
        "id": "bUoIBMCIu82I"
      },
      "execution_count": 22,
      "outputs": [
        {
          "output_type": "display_data",
          "data": {
            "text/plain": [
              "<Figure size 640x480 with 1 Axes>"
            ],
            "image/png": "[encoded data removed]"
          },
          "metadata": {}
        }
      ]
    },
    {
      "cell_type": "markdown",
      "source": [
        "### Human Eval 1.5b"
      ],
      "metadata": {
        "id": "OB07qoQ2sthe"
      }
    },
    {
      "cell_type": "code",
      "source": [
        "t0_to_t1_data, t0_to_t1_names = get_pie_chart_data(human_eval_15b_df, 't0', 't1')\n",
        "t1_to_t2_data, t1_to_t2_names = get_pie_chart_data(human_eval_15b_df, 't1', 't2')\n"
      ],
      "metadata": {
        "id": "ehgJbIZrq1z_"
      },
      "execution_count": 23,
      "outputs": []
    },
    {
      "cell_type": "code",
      "source": [
        "fig, ax = plt.subplots()\n",
        "ax.pie(t0_to_t1_data, labels = t0_to_t1_names, autopct='%1.1f%%')\n",
        "ax.set_title(\"Human Eval 1.5b (t1 -> t2)\")\n",
        "plt.show()"
      ],
      "metadata": {
        "colab": {
          "base_uri": "https://localhost:8080/",
          "height": 428
        },
        "id": "qQk4nSOftU6p",
        "outputId": "621820bb-f1d6-4e1c-cba7-285cd0455807"
      },
      "execution_count": 24,
      "outputs": [
        {
          "output_type": "display_data",
          "data": {
            "text/plain": [
              "<Figure size 640x480 with 1 Axes>"
            ],
            "image/png": "[encoded data removed]"
          },
          "metadata": {}
        }
      ]
    },
    {
      "cell_type": "code",
      "source": [
        "fig, ax = plt.subplots()\n",
        "ax.pie(t1_to_t2_data, labels = t1_to_t2_names, autopct='%1.1f%%')\n",
        "ax.set_title(\"Human Eval 1.5b (t2 -> t3)\")\n",
        "plt.show()"
      ],
      "metadata": {
        "colab": {
          "base_uri": "https://localhost:8080/",
          "height": 428
        },
        "id": "mZGEvirBsLcL",
        "outputId": "d5f76c7d-f56b-4d67-ab37-cc40ad7c1e0e"
      },
      "execution_count": 25,
      "outputs": [
        {
          "output_type": "display_data",
          "data": {
            "text/plain": [
              "<Figure size 640x480 with 1 Axes>"
            ],
            "image/png": "[encoded data removed]"
          },
          "metadata": {}
        }
      ]
    },
    {
      "cell_type": "markdown",
      "source": [
        "### Human Eval"
      ],
      "metadata": {
        "id": "LOsJ2OFIswt3"
      }
    },
    {
      "cell_type": "code",
      "source": [
        "t0_to_t1_data, t0_to_t1_names = get_pie_chart_data(human_eval_df, 't0', 't1')\n",
        "t1_to_t2_data, t1_to_t2_names = get_pie_chart_data(human_eval_df, 't1', 't2')\n",
        "t2_to_t3_data, t2_to_t3_names = get_pie_chart_data(human_eval_df, 't2', 't3')\n",
        "t3_to_t4_data, t3_to_t4_names = get_pie_chart_data(human_eval_df, 't3', 't4')"
      ],
      "metadata": {
        "id": "otQ7mBnctDXw"
      },
      "execution_count": 26,
      "outputs": []
    },
    {
      "cell_type": "code",
      "source": [
        "fig, ax = plt.subplots()\n",
        "ax.pie(t0_to_t1_data, labels = t0_to_t1_names, autopct='%1.1f%%')\n",
        "ax.set_title(\"Human Eval (t1 -> t2)\")\n",
        "plt.show()"
      ],
      "metadata": {
        "colab": {
          "base_uri": "https://localhost:8080/",
          "height": 428
        },
        "id": "KArviDVEtI0k",
        "outputId": "0e7a75cc-a803-4488-ed79-3d9bf27cd2f1"
      },
      "execution_count": 27,
      "outputs": [
        {
          "output_type": "display_data",
          "data": {
            "text/plain": [
              "<Figure size 640x480 with 1 Axes>"
            ],
            "image/png": "[encoded data removed]"
          },
          "metadata": {}
        }
      ]
    },
    {
      "cell_type": "code",
      "source": [
        "fig, ax = plt.subplots()\n",
        "ax.pie(t1_to_t2_data, labels = t1_to_t2_names, autopct='%1.1f%%')\n",
        "ax.set_title(\"Human Eval (t2 -> t3)\")\n",
        "plt.show()"
      ],
      "metadata": {
        "colab": {
          "base_uri": "https://localhost:8080/",
          "height": 428
        },
        "id": "_2l_QIYHtJiT",
        "outputId": "f2673366-9c77-4169-d56d-5604a8a0e974"
      },
      "execution_count": 28,
      "outputs": [
        {
          "output_type": "display_data",
          "data": {
            "text/plain": [
              "<Figure size 640x480 with 1 Axes>"
            ],
            "image/png": "[encoded data removed]"
          },
          "metadata": {}
        }
      ]
    },
    {
      "cell_type": "code",
      "source": [
        "fig, ax = plt.subplots()\n",
        "ax.pie(t2_to_t3_data, labels = t2_to_t3_names, autopct='%1.1f%%')\n",
        "ax.set_title(\"Human Eval (t3 -> t4)\")\n",
        "plt.show()"
      ],
      "metadata": {
        "colab": {
          "base_uri": "https://localhost:8080/",
          "height": 428
        },
        "id": "oiG2VmUCuEr2",
        "outputId": "fc16d394-50a1-4112-dec4-23bd1876051e"
      },
      "execution_count": 29,
      "outputs": [
        {
          "output_type": "display_data",
          "data": {
            "text/plain": [
              "<Figure size 640x480 with 1 Axes>"
            ],
            "image/png": "[encoded data removed]"
          },
          "metadata": {}
        }
      ]
    },
    {
      "cell_type": "code",
      "source": [
        "fig, ax = plt.subplots()\n",
        "ax.pie(t3_to_t4_data, labels = t3_to_t4_names, autopct='%1.1f%%')\n",
        "ax.set_title(\"Human Eval (t4 -> t5)\")\n",
        "plt.show()"
      ],
      "metadata": {
        "colab": {
          "base_uri": "https://localhost:8080/",
          "height": 428
        },
        "id": "KsC8n03XuzFM",
        "outputId": "c5090ff5-0503-43c9-9fab-63b7acdf78ae"
      },
      "execution_count": 30,
      "outputs": [
        {
          "output_type": "display_data",
          "data": {
            "text/plain": [
              "<Figure size 640x480 with 1 Axes>"
            ],
            "image/png": "[encoded data removed]"
          },
          "metadata": {}
        }
      ]
    },
    {
      "cell_type": "code",
      "source": [],
      "metadata": {
        "id": "E-_saCnAu3lz"
      },
      "execution_count": 30,
      "outputs": []
    },
    {
      "cell_type": "code",
      "source": [],
      "metadata": {
        "id": "E3oYXHtV863m"
      },
      "execution_count": null,
      "outputs": []
    },
    {
      "cell_type": "markdown",
      "source": [
        "# SCoRe Trained Model"
      ],
      "metadata": {
        "id": "wzn7ypgH896u"
      }
    },
    {
      "cell_type": "code",
      "source": [
        "### SET OUTPUTS FOLDER ###\n",
        "outputs_folder = \"/content/drive/MyDrive/DSSE/GroupProject/outputs-score/\""
      ],
      "metadata": {
        "id": "fIFsTb7-896u"
      },
      "execution_count": 74,
      "outputs": []
    },
    {
      "cell_type": "code",
      "source": [
        "def get_mbpp_df(mbpp_file_name):\n",
        "  df = pd.read_json(outputs_folder + mbpp_file_name)\n",
        "  df.columns = [\"t0\", \"t1\", \"t2\"]\n",
        "  return df\n",
        "\n",
        "def get_human_eval_df(human_eval_file_name):\n",
        "  df = pd.read_json(outputs_folder + human_eval_file_name)\n",
        "  df.columns = [\"t0\", \"t1\", \"t2\", \"t3\", \"t4\"]\n",
        "  return df\n",
        "\n",
        "def get_human_eval_15b_df(human_eval_15b_file_name):\n",
        "  df = pd.read_json(outputs_folder + human_eval_15b_file_name)\n",
        "  df.columns = [\"t0\", \"t1\", \"t2\"]\n",
        "  return df\n",
        "\n",
        "def get_human_eval_df_4turn(human_eval_file_name):\n",
        "  df = pd.read_json(outputs_folder + human_eval_file_name)\n",
        "  df.columns = [\"t0\", \"t1\", \"t2\", \"t3\"]\n",
        "  return df"
      ],
      "metadata": {
        "id": "-SCLMbZ6896u"
      },
      "execution_count": 75,
      "outputs": []
    },
    {
      "cell_type": "markdown",
      "source": [
        "## Set File Names"
      ],
      "metadata": {
        "id": "Pc768pjM896u"
      }
    },
    {
      "cell_type": "code",
      "source": [
        "human_eval_score_05_df = get_human_eval_df_4turn(\"final_eval_results_score_humaneval.json\")\n",
        "human_eval_score_05_df.head()"
      ],
      "metadata": {
        "colab": {
          "base_uri": "https://localhost:8080/",
          "height": 246
        },
        "outputId": "a796300e-cb13-4905-dbec-31889b5e2f56",
        "id": "pjuP0KfM896u"
      },
      "execution_count": 76,
      "outputs": [
        {
          "output_type": "execute_result",
          "data": {
            "text/plain": [
              "    t0   t1   t2   t3\n",
              "0  1.0  1.0  1.0  1.0\n",
              "1  1.0  1.0  0.0  1.0\n",
              "2  1.0  1.0  1.0  1.0\n",
              "3  1.0  1.0  1.0  1.0\n",
              "4  1.0  1.0  1.0  1.0"
            ],
            "text/html": [
              "\n",
              "  <div id=\"df-821204fc-fd05-432a-a2ed-0e71b84cc796\" class=\"colab-df-container\">\n",
              "    <div>\n",
              "<style scoped>\n",
              "    .dataframe tbody tr th:only-of-type {\n",
              "        vertical-align: middle;\n",
              "    }\n",
              "\n",
              "    .dataframe tbody tr th {\n",
              "        vertical-align: top;\n",
              "    }\n",
              "\n",
              "    .dataframe thead th {\n",
              "        text-align: right;\n",
              "    }\n",
              "</style>\n",
              "<table border=\"1\" class=\"dataframe\">\n",
              "  <thead>\n",
              "    <tr style=\"text-align: right;\">\n",
              "      <th></th>\n",
              "      <th>t0</th>\n",
              "      <th>t1</th>\n",
              "      <th>t2</th>\n",
              "      <th>t3</th>\n",
              "    </tr>\n",
              "  </thead>\n",
              "  <tbody>\n",
              "    <tr>\n",
              "      <th>0</th>\n",
              "      <td>1.0</td>\n",
              "      <td>1.0</td>\n",
              "      <td>1.0</td>\n",
              "      <td>1.0</td>\n",
              "    </tr>\n",
              "    <tr>\n",
              "      <th>1</th>\n",
              "      <td>1.0</td>\n",
              "      <td>1.0</td>\n",
              "      <td>0.0</td>\n",
              "      <td>1.0</td>\n",
              "    </tr>\n",
              "    <tr>\n",
              "      <th>2</th>\n",
              "      <td>1.0</td>\n",
              "      <td>1.0</td>\n",
              "      <td>1.0</td>\n",
              "      <td>1.0</td>\n",
              "    </tr>\n",
              "    <tr>\n",
              "      <th>3</th>\n",
              "      <td>1.0</td>\n",
              "      <td>1.0</td>\n",
              "      <td>1.0</td>\n",
              "      <td>1.0</td>\n",
              "    </tr>\n",
              "    <tr>\n",
              "      <th>4</th>\n",
              "      <td>1.0</td>\n",
              "      <td>1.0</td>\n",
              "      <td>1.0</td>\n",
              "      <td>1.0</td>\n",
              "    </tr>\n",
              "  </tbody>\n",
              "</table>\n",
              "</div>\n",
              "    <div class=\"colab-df-buttons\">\n",
              "\n",
              "  <div class=\"colab-df-container\">\n",
              "    <button class=\"colab-df-convert\" onclick=\"convertToInteractive('df-821204fc-fd05-432a-a2ed-0e71b84cc796')\"\n",
              "            title=\"Convert this dataframe to an interactive table.\"\n",
              "            style=\"display:none;\">\n",
              "\n",
              "  <svg xmlns=\"http://www.w3.org/2000/svg\" height=\"24px\" viewBox=\"0 -960 960 960\">\n",
              "    <path d=\"M120-120v-720h720v720H120Zm60-500h600v-160H180v160Zm220 220h160v-160H400v160Zm0 220h160v-160H400v160ZM180-400h160v-160H180v160Zm440 0h160v-160H620v160ZM180-180h160v-160H180v160Zm440 0h160v-160H620v160Z\"/>\n",
              "  </svg>\n",
              "    </button>\n",
              "\n",
              "  <style>\n",
              "    .colab-df-container {\n",
              "      display:flex;\n",
              "      gap: 12px;\n",
              "    }\n",
              "\n",
              "    .colab-df-convert {\n",
              "      background-color: #E8F0FE;\n",
              "      border: none;\n",
              "      border-radius: 50%;\n",
              "      cursor: pointer;\n",
              "      display: none;\n",
              "      fill: #1967D2;\n",
              "      height: 32px;\n",
              "      padding: 0 0 0 0;\n",
              "      width: 32px;\n",
              "    }\n",
              "\n",
              "    .colab-df-convert:hover {\n",
              "      background-color: #E2EBFA;\n",
              "      box-shadow: 0px 1px 2px rgba(60, 64, 67, 0.3), 0px 1px 3px 1px rgba(60, 64, 67, 0.15);\n",
              "      fill: #174EA6;\n",
              "    }\n",
              "\n",
              "    .colab-df-buttons div {\n",
              "      margin-bottom: 4px;\n",
              "    }\n",
              "\n",
              "    [theme=dark] .colab-df-convert {\n",
              "      background-color: #3B4455;\n",
              "      fill: #D2E3FC;\n",
              "    }\n",
              "\n",
              "    [theme=dark] .colab-df-convert:hover {\n",
              "      background-color: #434B5C;\n",
              "      box-shadow: 0px 1px 3px 1px rgba(0, 0, 0, 0.15);\n",
              "      filter: drop-shadow(0px 1px 2px rgba(0, 0, 0, 0.3));\n",
              "      fill: #FFFFFF;\n",
              "    }\n",
              "  </style>\n",
              "\n",
              "    <script>\n",
              "      const buttonEl =\n",
              "        document.querySelector('#df-821204fc-fd05-432a-a2ed-0e71b84cc796 button.colab-df-convert');\n",
              "      buttonEl.style.display =\n",
              "        google.colab.kernel.accessAllowed ? 'block' : 'none';\n",
              "\n",
              "      async function convertToInteractive(key) {\n",
              "        const element = document.querySelector('#df-821204fc-fd05-432a-a2ed-0e71b84cc796');\n",
              "        const dataTable =\n",
              "          await google.colab.kernel.invokeFunction('convertToInteractive',\n",
              "                                                    [key], {});\n",
              "        if (!dataTable) return;\n",
              "\n",
              "        const docLinkHtml = 'Like what you see? Visit the ' +\n",
              "          '<a target=\"_blank\" href=https://colab.research.google.com/notebooks/data_table.ipynb>data table notebook</a>'\n",
              "          + ' to learn more about interactive tables.';\n",
              "        element.innerHTML = '';\n",
              "        dataTable['output_type'] = 'display_data';\n",
              "        await google.colab.output.renderOutput(dataTable, element);\n",
              "        const docLink = document.createElement('div');\n",
              "        docLink.innerHTML = docLinkHtml;\n",
              "        element.appendChild(docLink);\n",
              "      }\n",
              "    </script>\n",
              "  </div>\n",
              "\n",
              "\n",
              "<div id=\"df-0a810429-1cc3-4c1a-86fa-040f50aa6b0b\">\n",
              "  <button class=\"colab-df-quickchart\" onclick=\"quickchart('df-0a810429-1cc3-4c1a-86fa-040f50aa6b0b')\"\n",
              "            title=\"Suggest charts\"\n",
              "            style=\"display:none;\">\n",
              "\n",
              "<svg xmlns=\"http://www.w3.org/2000/svg\" height=\"24px\"viewBox=\"0 0 24 24\"\n",
              "     width=\"24px\">\n",
              "    <g>\n",
              "        <path d=\"M19 3H5c-1.1 0-2 .9-2 2v14c0 1.1.9 2 2 2h14c1.1 0 2-.9 2-2V5c0-1.1-.9-2-2-2zM9 17H7v-7h2v7zm4 0h-2V7h2v10zm4 0h-2v-4h2v4z\"/>\n",
              "    </g>\n",
              "</svg>\n",
              "  </button>\n",
              "\n",
              "<style>\n",
              "  .colab-df-quickchart {\n",
              "      --bg-color: #E8F0FE;\n",
              "      --fill-color: #1967D2;\n",
              "      --hover-bg-color: #E2EBFA;\n",
              "      --hover-fill-color: #174EA6;\n",
              "      --disabled-fill-color: #AAA;\n",
              "      --disabled-bg-color: #DDD;\n",
              "  }\n",
              "\n",
              "  [theme=dark] .colab-df-quickchart {\n",
              "      --bg-color: #3B4455;\n",
              "      --fill-color: #D2E3FC;\n",
              "      --hover-bg-color: #434B5C;\n",
              "      --hover-fill-color: #FFFFFF;\n",
              "      --disabled-bg-color: #3B4455;\n",
              "      --disabled-fill-color: #666;\n",
              "  }\n",
              "\n",
              "  .colab-df-quickchart {\n",
              "    background-color: var(--bg-color);\n",
              "    border: none;\n",
              "    border-radius: 50%;\n",
              "    cursor: pointer;\n",
              "    display: none;\n",
              "    fill: var(--fill-color);\n",
              "    height: 32px;\n",
              "    padding: 0;\n",
              "    width: 32px;\n",
              "  }\n",
              "\n",
              "  .colab-df-quickchart:hover {\n",
              "    background-color: var(--hover-bg-color);\n",
              "    box-shadow: 0 1px 2px rgba(60, 64, 67, 0.3), 0 1px 3px 1px rgba(60, 64, 67, 0.15);\n",
              "    fill: var(--button-hover-fill-color);\n",
              "  }\n",
              "\n",
              "  .colab-df-quickchart-complete:disabled,\n",
              "  .colab-df-quickchart-complete:disabled:hover {\n",
              "    background-color: var(--disabled-bg-color);\n",
              "    fill: var(--disabled-fill-color);\n",
              "    box-shadow: none;\n",
              "  }\n",
              "\n",
              "  .colab-df-spinner {\n",
              "    border: 2px solid var(--fill-color);\n",
              "    border-color: transparent;\n",
              "    border-bottom-color: var(--fill-color);\n",
              "    animation:\n",
              "      spin 1s steps(1) infinite;\n",
              "  }\n",
              "\n",
              "  @keyframes spin {\n",
              "    0% {\n",
              "      border-color: transparent;\n",
              "      border-bottom-color: var(--fill-color);\n",
              "      border-left-color: var(--fill-color);\n",
              "    }\n",
              "    20% {\n",
              "      border-color: transparent;\n",
              "      border-left-color: var(--fill-color);\n",
              "      border-top-color: var(--fill-color);\n",
              "    }\n",
              "    30% {\n",
              "      border-color: transparent;\n",
              "      border-left-color: var(--fill-color);\n",
              "      border-top-color: var(--fill-color);\n",
              "      border-right-color: var(--fill-color);\n",
              "    }\n",
              "    40% {\n",
              "      border-color: transparent;\n",
              "      border-right-color: var(--fill-color);\n",
              "      border-top-color: var(--fill-color);\n",
              "    }\n",
              "    60% {\n",
              "      border-color: transparent;\n",
              "      border-right-color: var(--fill-color);\n",
              "    }\n",
              "    80% {\n",
              "      border-color: transparent;\n",
              "      border-right-color: var(--fill-color);\n",
              "      border-bottom-color: var(--fill-color);\n",
              "    }\n",
              "    90% {\n",
              "      border-color: transparent;\n",
              "      border-bottom-color: var(--fill-color);\n",
              "    }\n",
              "  }\n",
              "</style>\n",
              "\n",
              "  <script>\n",
              "    async function quickchart(key) {\n",
              "      const quickchartButtonEl =\n",
              "        document.querySelector('#' + key + ' button');\n",
              "      quickchartButtonEl.disabled = true;  // To prevent multiple clicks.\n",
              "      quickchartButtonEl.classList.add('colab-df-spinner');\n",
              "      try {\n",
              "        const charts = await google.colab.kernel.invokeFunction(\n",
              "            'suggestCharts', [key], {});\n",
              "      } catch (error) {\n",
              "        console.error('Error during call to suggestCharts:', error);\n",
              "      }\n",
              "      quickchartButtonEl.classList.remove('colab-df-spinner');\n",
              "      quickchartButtonEl.classList.add('colab-df-quickchart-complete');\n",
              "    }\n",
              "    (() => {\n",
              "      let quickchartButtonEl =\n",
              "        document.querySelector('#df-0a810429-1cc3-4c1a-86fa-040f50aa6b0b button');\n",
              "      quickchartButtonEl.style.display =\n",
              "        google.colab.kernel.accessAllowed ? 'block' : 'none';\n",
              "    })();\n",
              "  </script>\n",
              "</div>\n",
              "\n",
              "    </div>\n",
              "  </div>\n"
            ],
            "application/vnd.google.colaboratory.intrinsic+json": {
              "type": "dataframe",
              "variable_name": "human_eval_score_05_df",
              "summary": "{\n  \"name\": \"human_eval_score_05_df\",\n  \"rows\": 164,\n  \"fields\": [\n    {\n      \"column\": \"t0\",\n      \"properties\": {\n        \"dtype\": \"number\",\n        \"std\": 0.3065840656171045,\n        \"min\": 0.0,\n        \"max\": 1.0,\n        \"num_unique_values\": 2,\n        \"samples\": [\n          0.0,\n          1.0\n        ],\n        \"semantic_type\": \"\",\n        \"description\": \"\"\n      }\n    },\n    {\n      \"column\": \"t1\",\n      \"properties\": {\n        \"dtype\": \"number\",\n        \"std\": 0.3152441624956398,\n        \"min\": 0.0,\n        \"max\": 1.0,\n        \"num_unique_values\": 2,\n        \"samples\": [\n          0.0,\n          1.0\n        ],\n        \"semantic_type\": \"\",\n        \"description\": \"\"\n      }\n    },\n    {\n      \"column\": \"t2\",\n      \"properties\": {\n        \"dtype\": \"number\",\n        \"std\": 0.29927192278358195,\n        \"min\": 0.0,\n        \"max\": 1.0,\n        \"num_unique_values\": 2,\n        \"samples\": [\n          0.0,\n          1.0\n        ],\n        \"semantic_type\": \"\",\n        \"description\": \"\"\n      }\n    },\n    {\n      \"column\": \"t3\",\n      \"properties\": {\n        \"dtype\": \"number\",\n        \"std\": 0.3152441624956398,\n        \"min\": 0.0,\n        \"max\": 1.0,\n        \"num_unique_values\": 2,\n        \"samples\": [\n          0.0,\n          1.0\n        ],\n        \"semantic_type\": \"\",\n        \"description\": \"\"\n      }\n    }\n  ]\n}"
            }
          },
          "metadata": {},
          "execution_count": 76
        }
      ]
    },
    {
      "cell_type": "markdown",
      "source": [
        "## Metrics"
      ],
      "metadata": {
        "id": "Y_dkhFpN896u"
      }
    },
    {
      "cell_type": "code",
      "source": [
        "### Metrics Function Definitions ###\n",
        "dbg = False\n",
        "\n",
        "def dbg_print(msg):\n",
        "  if dbg:\n",
        "    print(msg)\n",
        "\n",
        "def degradation_rate(df, column1, column2):\n",
        "  # Corrected Outputs = Passed @ t2 when Failed at t1\n",
        "  dbg_print(\"\\n--------- Degradation Rate ----------\")\n",
        "  incorrect_outputs_df = df[(df[column1] == 0.0) & (df[column2] == 1.0)]\n",
        "  dbg_print(incorrect_outputs_df.head())\n",
        "  incorrect_outputs = len(incorrect_outputs_df)\n",
        "  dbg_print(f\"\\nInCorrect Outputs: {incorrect_outputs}\")\n",
        "  total_outputs = len(df)\n",
        "  dbg_print(f\"Total Outputs: {total_outputs}\")\n",
        "  return (incorrect_outputs / total_outputs) * 100\n",
        "\n",
        "def error_reduction_rate(df, column1, column2):\n",
        "  # Corrected Outputs = Passed @ t2 when Failed at t1\n",
        "  dbg_print(\"\\n--------- Error Reduction Rate ----------\")\n",
        "  incorrect_outputs_df = df[(df[column1] == 0.0) & (df[column2] == 1.0)]\n",
        "  dbg_print(incorrect_outputs_df.head())\n",
        "  incorrect_outputs = len(incorrect_outputs_df)\n",
        "  dbg_print(f\"\\nInCorrect Outputs: {incorrect_outputs}\")\n",
        "  total_outputs = len(df)\n",
        "  dbg_print(f\"Total Outputs: {total_outputs}\")\n",
        "  return (incorrect_outputs / total_outputs) * 100\n",
        "\n",
        "def functional_accuracy(df, column):\n",
        "  dbg_print(\"\\n--------- Functional Accuracy ----------\")\n",
        "  passed_df = df[(df[column] == 1.0)]\n",
        "  dbg_print(passed_df.head())\n",
        "  passed_outputs = len(passed_df)\n",
        "  dbg_print(f\"\\nPassed at {column}: {passed_outputs}\")\n",
        "  total_outputs = len(df)\n",
        "  dbg_print(f\"Total Outputs: {total_outputs}\")\n",
        "  return passed_outputs / total_outputs * 100\n",
        "\n",
        "def self_correction_rate(df, column1, column2):\n",
        "  # Corrected Outputs = Passed @ t2 when Failed at t1\n",
        "  dbg_print(\"\\n--------- Self Correction Rate ----------\")\n",
        "  functional_accuracy_1 = functional_accuracy(df, column1)\n",
        "  dbg_print(f\"\\nFunctional Accuracy {column1}: {functional_accuracy_1}\")\n",
        "  functional_accuracy_2 = functional_accuracy(df, column2)\n",
        "  dbg_print(f\"\\nFunctional Accuracy {column2}: {functional_accuracy_2}\")\n",
        "  return functional_accuracy_1 - functional_accuracy_2\n",
        "\n",
        "def tabulate_metrics(dict_dfs, column1, column2):\n",
        "  print(f\"\\n--------- Tabulated Metrics ({column1} -> {column2}) ----------\")\n",
        "\n",
        "  data = {}\n",
        "\n",
        "  for name, df in dict_dfs:\n",
        "    data[name] = [\n",
        "        self_correction_rate(df, column1, column2),\n",
        "        error_reduction_rate(df, column1, column2),\n",
        "        functional_accuracy(df, column1),\n",
        "        functional_accuracy(df, column2),\n",
        "        degradation_rate(df, column1, column2)\n",
        "      ]\n",
        "\n",
        "\n",
        "  df = pd.DataFrame(data)\n",
        "\n",
        "  df.index = ['Self Correction Rate', 'Error Reduction Rate', f'Functional Accuracy {column1}', f'Functional Accuracy {column2}', 'Degradation Rate',]\n",
        "\n",
        "  print(df)\n",
        "\n",
        "def get_pie_chart_data(df, column1, column2):\n",
        "  correct_to_correct = len(df[(df[column1] == 'Passed') & (df[column2] == 'Passed')])\n",
        "  correct_to_incorrect = len(df[(df[column1] == 'Passed') & (df[column2] == 'Failed') | (df[column2] == 'ExecutionFailed')])\n",
        "  incorrect_to_correct = len(df[(df[column1] == 'Failed') | (df[column1] == 'ExecutionFailed') & (df[column2] == 'Passed')])\n",
        "  incorrect_to_incorrect = len(df[(df[column1] == 'Failed') | (df[column1] == 'ExecutionFailed') & (df[column2] == 'Failed') | (df[column2] == 'ExecutionFailed')])\n",
        "\n",
        "  return (np.array([correct_to_correct, correct_to_incorrect, incorrect_to_correct, incorrect_to_incorrect]), ['correct => correct', 'correct => incorrect', 'incorrect => correct', 'incorrect => incorrect'])\n",
        "\n"
      ],
      "metadata": {
        "id": "5H97KG7P896u"
      },
      "execution_count": 77,
      "outputs": []
    },
    {
      "cell_type": "markdown",
      "source": [
        "### Individual Data"
      ],
      "metadata": {
        "id": "wqzVRGci896u"
      }
    },
    {
      "cell_type": "code",
      "source": [
        "columns = ['t0', 't1']\n",
        "print(\"Self Correction Rate: \", self_correction_rate(human_eval_score_05_df, columns[0], columns[1]))\n",
        "print(\"Error Reduction Rate: \", error_reduction_rate(human_eval_score_05_df, columns[0], columns[1]))\n",
        "print(f\"Functional Accuracy {columns[0]}: \", functional_accuracy(human_eval_score_05_df, columns[0]))\n",
        "print(f\"Functional Accuracy {columns[1]}: \", functional_accuracy(human_eval_score_05_df, columns[1]))\n",
        "print(\"Degradation Rate: \", degradation_rate(human_eval_score_05_df, columns[0], columns[1]))"
      ],
      "metadata": {
        "colab": {
          "base_uri": "https://localhost:8080/"
        },
        "outputId": "4a1797c0-eb21-4c5f-ec36-be9a7f77f9ac",
        "id": "ZCQ7ihSn896u"
      },
      "execution_count": 78,
      "outputs": [
        {
          "output_type": "stream",
          "name": "stdout",
          "text": [
            "Self Correction Rate:  1.2195121951219505\n",
            "Error Reduction Rate:  2.4390243902439024\n",
            "Functional Accuracy t0:  89.02439024390245\n",
            "Functional Accuracy t1:  87.8048780487805\n",
            "Degradation Rate:  2.4390243902439024\n"
          ]
        }
      ]
    },
    {
      "cell_type": "code",
      "source": [
        "columns = ['t1', 't2']\n",
        "print(\"Self Correction Rate: \", self_correction_rate(human_eval_score_05_df, columns[0], columns[1]))\n",
        "print(\"Error Reduction Rate: \", error_reduction_rate(human_eval_score_05_df, columns[0], columns[1]))\n",
        "print(f\"Functional Accuracy {columns[0]}: \", functional_accuracy(human_eval_score_05_df, columns[0]))\n",
        "print(f\"Functional Accuracy {columns[1]}: \", functional_accuracy(human_eval_score_05_df, columns[1]))\n",
        "print(\"Degradation Rate: \", degradation_rate(human_eval_score_05_df, columns[0], columns[1]))"
      ],
      "metadata": {
        "colab": {
          "base_uri": "https://localhost:8080/"
        },
        "outputId": "3f98990d-4e74-45e1-9a9e-ca6a7cf111d7",
        "id": "Ox3bie7X896u"
      },
      "execution_count": 79,
      "outputs": [
        {
          "output_type": "stream",
          "name": "stdout",
          "text": [
            "Self Correction Rate:  -1.2195121951219505\n",
            "Error Reduction Rate:  4.878048780487805\n",
            "Functional Accuracy t1:  87.8048780487805\n",
            "Functional Accuracy t2:  89.02439024390245\n",
            "Degradation Rate:  4.878048780487805\n"
          ]
        }
      ]
    },
    {
      "cell_type": "markdown",
      "source": [
        "### Tabulated Data"
      ],
      "metadata": {
        "id": "z5IY1IWp896u"
      }
    },
    {
      "cell_type": "code",
      "source": [
        "# All tabulated data are percentages (multiplied by 100)\n",
        "tabulate_metrics([(\"Human Eval 0.5b 4 Turn\", human_eval_score_05_df)], 't0', 't1')\n",
        "# All tabulated data are percentages (multiplied by 100)\n",
        "tabulate_metrics([(\"Human Eval 0.5b 4 Turn\", human_eval_score_05_df)], 't1', 't2')\n",
        "# All tabulated data are percentages (multiplied by 100)\n",
        "tabulate_metrics([(\"Human Eval 0.5b 4 Turn\", human_eval_score_05_df)], 't2', 't3')"
      ],
      "metadata": {
        "colab": {
          "base_uri": "https://localhost:8080/"
        },
        "outputId": "09e3efd3-b50c-4b00-ac3b-7260edb8f61d",
        "id": "zTQr84vX896u"
      },
      "execution_count": 80,
      "outputs": [
        {
          "output_type": "stream",
          "name": "stdout",
          "text": [
            "\n",
            "--------- Tabulated Metrics (t0 -> t1) ----------\n",
            "                        Human Eval 0.5b 4 Turn\n",
            "Self Correction Rate                  1.219512\n",
            "Error Reduction Rate                  2.439024\n",
            "Functional Accuracy t0               89.024390\n",
            "Functional Accuracy t1               87.804878\n",
            "Degradation Rate                      2.439024\n",
            "\n",
            "--------- Tabulated Metrics (t1 -> t2) ----------\n",
            "                        Human Eval 0.5b 4 Turn\n",
            "Self Correction Rate                 -1.219512\n",
            "Error Reduction Rate                  4.878049\n",
            "Functional Accuracy t1               87.804878\n",
            "Functional Accuracy t2               89.024390\n",
            "Degradation Rate                      4.878049\n",
            "\n",
            "--------- Tabulated Metrics (t2 -> t3) ----------\n",
            "                        Human Eval 0.5b 4 Turn\n",
            "Self Correction Rate                  1.219512\n",
            "Error Reduction Rate                  3.048780\n",
            "Functional Accuracy t2               89.024390\n",
            "Functional Accuracy t3               87.804878\n",
            "Degradation Rate                      3.048780\n"
          ]
        }
      ]
    },
    {
      "cell_type": "markdown",
      "source": [
        "# SCoRe Trained Model"
      ],
      "metadata": {
        "id": "zYtIIphzFzAc"
      }
    },
    {
      "cell_type": "code",
      "source": [
        "### SET OUTPUTS FOLDER ###\n",
        "outputs_folder = \"/content/drive/MyDrive/DSSE/GroupProject/outputs-score/\""
      ],
      "metadata": {
        "id": "V7C2YDxFFzAc"
      },
      "execution_count": 83,
      "outputs": []
    },
    {
      "cell_type": "code",
      "source": [
        "def get_mbpp_df(mbpp_file_name):\n",
        "  df = pd.read_json(outputs_folder + mbpp_file_name)\n",
        "  df.columns = [\"t0\", \"t1\", \"t2\"]\n",
        "  return df\n",
        "\n",
        "def get_human_eval_df(human_eval_file_name):\n",
        "  df = pd.read_json(outputs_folder + human_eval_file_name)\n",
        "  df.columns = [\"t0\", \"t1\", \"t2\", \"t3\", \"t4\"]\n",
        "  return df\n",
        "\n",
        "def get_human_eval_15b_df(human_eval_15b_file_name):\n",
        "  df = pd.read_json(outputs_folder + human_eval_15b_file_name)\n",
        "  df.columns = [\"t0\", \"t1\", \"t2\"]\n",
        "  return df\n",
        "\n",
        "def get_human_eval_df_4turn(human_eval_file_name):\n",
        "  df = pd.read_json(outputs_folder + human_eval_file_name)\n",
        "  df.columns = [\"t0\", \"t1\", \"t2\", \"t3\"]\n",
        "  return df"
      ],
      "metadata": {
        "id": "ogMw2PXTFzAc"
      },
      "execution_count": 84,
      "outputs": []
    },
    {
      "cell_type": "markdown",
      "source": [
        "## Set File Names"
      ],
      "metadata": {
        "id": "xoF2cAvWFzAc"
      }
    },
    {
      "cell_type": "code",
      "source": [
        "human_eval_score_05_df = get_human_eval_df_4turn(\"final_eval_results_score_humaneval_temp07.json\")\n",
        "human_eval_score_05_df.head()"
      ],
      "metadata": {
        "colab": {
          "base_uri": "https://localhost:8080/",
          "height": 206
        },
        "outputId": "ec5af26f-6fca-4564-c442-c112c3bca998",
        "id": "kvEEQxFHFzAc"
      },
      "execution_count": 85,
      "outputs": [
        {
          "output_type": "execute_result",
          "data": {
            "text/plain": [
              "     t0    t1   t2   t3\n",
              "0  True  True  1.0  1.0\n",
              "1  True  True  1.0  1.0\n",
              "2  True  True  1.0  1.0\n",
              "3  True  True  1.0  1.0\n",
              "4  True  True  1.0  1.0"
            ],
            "text/html": [
              "\n",
              "  <div id=\"df-dcb26550-0049-4a58-b957-05688309f3c6\" class=\"colab-df-container\">\n",
              "    <div>\n",
              "<style scoped>\n",
              "    .dataframe tbody tr th:only-of-type {\n",
              "        vertical-align: middle;\n",
              "    }\n",
              "\n",
              "    .dataframe tbody tr th {\n",
              "        vertical-align: top;\n",
              "    }\n",
              "\n",
              "    .dataframe thead th {\n",
              "        text-align: right;\n",
              "    }\n",
              "</style>\n",
              "<table border=\"1\" class=\"dataframe\">\n",
              "  <thead>\n",
              "    <tr style=\"text-align: right;\">\n",
              "      <th></th>\n",
              "      <th>t0</th>\n",
              "      <th>t1</th>\n",
              "      <th>t2</th>\n",
              "      <th>t3</th>\n",
              "    </tr>\n",
              "  </thead>\n",
              "  <tbody>\n",
              "    <tr>\n",
              "      <th>0</th>\n",
              "      <td>True</td>\n",
              "      <td>True</td>\n",
              "      <td>1.0</td>\n",
              "      <td>1.0</td>\n",
              "    </tr>\n",
              "    <tr>\n",
              "      <th>1</th>\n",
              "      <td>True</td>\n",
              "      <td>True</td>\n",
              "      <td>1.0</td>\n",
              "      <td>1.0</td>\n",
              "    </tr>\n",
              "    <tr>\n",
              "      <th>2</th>\n",
              "      <td>True</td>\n",
              "      <td>True</td>\n",
              "      <td>1.0</td>\n",
              "      <td>1.0</td>\n",
              "    </tr>\n",
              "    <tr>\n",
              "      <th>3</th>\n",
              "      <td>True</td>\n",
              "      <td>True</td>\n",
              "      <td>1.0</td>\n",
              "      <td>1.0</td>\n",
              "    </tr>\n",
              "    <tr>\n",
              "      <th>4</th>\n",
              "      <td>True</td>\n",
              "      <td>True</td>\n",
              "      <td>1.0</td>\n",
              "      <td>1.0</td>\n",
              "    </tr>\n",
              "  </tbody>\n",
              "</table>\n",
              "</div>\n",
              "    <div class=\"colab-df-buttons\">\n",
              "\n",
              "  <div class=\"colab-df-container\">\n",
              "    <button class=\"colab-df-convert\" onclick=\"convertToInteractive('df-dcb26550-0049-4a58-b957-05688309f3c6')\"\n",
              "            title=\"Convert this dataframe to an interactive table.\"\n",
              "            style=\"display:none;\">\n",
              "\n",
              "  <svg xmlns=\"http://www.w3.org/2000/svg\" height=\"24px\" viewBox=\"0 -960 960 960\">\n",
              "    <path d=\"M120-120v-720h720v720H120Zm60-500h600v-160H180v160Zm220 220h160v-160H400v160Zm0 220h160v-160H400v160ZM180-400h160v-160H180v160Zm440 0h160v-160H620v160ZM180-180h160v-160H180v160Zm440 0h160v-160H620v160Z\"/>\n",
              "  </svg>\n",
              "    </button>\n",
              "\n",
              "  <style>\n",
              "    .colab-df-container {\n",
              "      display:flex;\n",
              "      gap: 12px;\n",
              "    }\n",
              "\n",
              "    .colab-df-convert {\n",
              "      background-color: #E8F0FE;\n",
              "      border: none;\n",
              "      border-radius: 50%;\n",
              "      cursor: pointer;\n",
              "      display: none;\n",
              "      fill: #1967D2;\n",
              "      height: 32px;\n",
              "      padding: 0 0 0 0;\n",
              "      width: 32px;\n",
              "    }\n",
              "\n",
              "    .colab-df-convert:hover {\n",
              "      background-color: #E2EBFA;\n",
              "      box-shadow: 0px 1px 2px rgba(60, 64, 67, 0.3), 0px 1px 3px 1px rgba(60, 64, 67, 0.15);\n",
              "      fill: #174EA6;\n",
              "    }\n",
              "\n",
              "    .colab-df-buttons div {\n",
              "      margin-bottom: 4px;\n",
              "    }\n",
              "\n",
              "    [theme=dark] .colab-df-convert {\n",
              "      background-color: #3B4455;\n",
              "      fill: #D2E3FC;\n",
              "    }\n",
              "\n",
              "    [theme=dark] .colab-df-convert:hover {\n",
              "      background-color: #434B5C;\n",
              "      box-shadow: 0px 1px 3px 1px rgba(0, 0, 0, 0.15);\n",
              "      filter: drop-shadow(0px 1px 2px rgba(0, 0, 0, 0.3));\n",
              "      fill: #FFFFFF;\n",
              "    }\n",
              "  </style>\n",
              "\n",
              "    <script>\n",
              "      const buttonEl =\n",
              "        document.querySelector('#df-dcb26550-0049-4a58-b957-05688309f3c6 button.colab-df-convert');\n",
              "      buttonEl.style.display =\n",
              "        google.colab.kernel.accessAllowed ? 'block' : 'none';\n",
              "\n",
              "      async function convertToInteractive(key) {\n",
              "        const element = document.querySelector('#df-dcb26550-0049-4a58-b957-05688309f3c6');\n",
              "        const dataTable =\n",
              "          await google.colab.kernel.invokeFunction('convertToInteractive',\n",
              "                                                    [key], {});\n",
              "        if (!dataTable) return;\n",
              "\n",
              "        const docLinkHtml = 'Like what you see? Visit the ' +\n",
              "          '<a target=\"_blank\" href=https://colab.research.google.com/notebooks/data_table.ipynb>data table notebook</a>'\n",
              "          + ' to learn more about interactive tables.';\n",
              "        element.innerHTML = '';\n",
              "        dataTable['output_type'] = 'display_data';\n",
              "        await google.colab.output.renderOutput(dataTable, element);\n",
              "        const docLink = document.createElement('div');\n",
              "        docLink.innerHTML = docLinkHtml;\n",
              "        element.appendChild(docLink);\n",
              "      }\n",
              "    </script>\n",
              "  </div>\n",
              "\n",
              "\n",
              "<div id=\"df-26e41ef5-1683-4a2c-a1c9-006934649264\">\n",
              "  <button class=\"colab-df-quickchart\" onclick=\"quickchart('df-26e41ef5-1683-4a2c-a1c9-006934649264')\"\n",
              "            title=\"Suggest charts\"\n",
              "            style=\"display:none;\">\n",
              "\n",
              "<svg xmlns=\"http://www.w3.org/2000/svg\" height=\"24px\"viewBox=\"0 0 24 24\"\n",
              "     width=\"24px\">\n",
              "    <g>\n",
              "        <path d=\"M19 3H5c-1.1 0-2 .9-2 2v14c0 1.1.9 2 2 2h14c1.1 0 2-.9 2-2V5c0-1.1-.9-2-2-2zM9 17H7v-7h2v7zm4 0h-2V7h2v10zm4 0h-2v-4h2v4z\"/>\n",
              "    </g>\n",
              "</svg>\n",
              "  </button>\n",
              "\n",
              "<style>\n",
              "  .colab-df-quickchart {\n",
              "      --bg-color: #E8F0FE;\n",
              "      --fill-color: #1967D2;\n",
              "      --hover-bg-color: #E2EBFA;\n",
              "      --hover-fill-color: #174EA6;\n",
              "      --disabled-fill-color: #AAA;\n",
              "      --disabled-bg-color: #DDD;\n",
              "  }\n",
              "\n",
              "  [theme=dark] .colab-df-quickchart {\n",
              "      --bg-color: #3B4455;\n",
              "      --fill-color: #D2E3FC;\n",
              "      --hover-bg-color: #434B5C;\n",
              "      --hover-fill-color: #FFFFFF;\n",
              "      --disabled-bg-color: #3B4455;\n",
              "      --disabled-fill-color: #666;\n",
              "  }\n",
              "\n",
              "  .colab-df-quickchart {\n",
              "    background-color: var(--bg-color);\n",
              "    border: none;\n",
              "    border-radius: 50%;\n",
              "    cursor: pointer;\n",
              "    display: none;\n",
              "    fill: var(--fill-color);\n",
              "    height: 32px;\n",
              "    padding: 0;\n",
              "    width: 32px;\n",
              "  }\n",
              "\n",
              "  .colab-df-quickchart:hover {\n",
              "    background-color: var(--hover-bg-color);\n",
              "    box-shadow: 0 1px 2px rgba(60, 64, 67, 0.3), 0 1px 3px 1px rgba(60, 64, 67, 0.15);\n",
              "    fill: var(--button-hover-fill-color);\n",
              "  }\n",
              "\n",
              "  .colab-df-quickchart-complete:disabled,\n",
              "  .colab-df-quickchart-complete:disabled:hover {\n",
              "    background-color: var(--disabled-bg-color);\n",
              "    fill: var(--disabled-fill-color);\n",
              "    box-shadow: none;\n",
              "  }\n",
              "\n",
              "  .colab-df-spinner {\n",
              "    border: 2px solid var(--fill-color);\n",
              "    border-color: transparent;\n",
              "    border-bottom-color: var(--fill-color);\n",
              "    animation:\n",
              "      spin 1s steps(1) infinite;\n",
              "  }\n",
              "\n",
              "  @keyframes spin {\n",
              "    0% {\n",
              "      border-color: transparent;\n",
              "      border-bottom-color: var(--fill-color);\n",
              "      border-left-color: var(--fill-color);\n",
              "    }\n",
              "    20% {\n",
              "      border-color: transparent;\n",
              "      border-left-color: var(--fill-color);\n",
              "      border-top-color: var(--fill-color);\n",
              "    }\n",
              "    30% {\n",
              "      border-color: transparent;\n",
              "      border-left-color: var(--fill-color);\n",
              "      border-top-color: var(--fill-color);\n",
              "      border-right-color: var(--fill-color);\n",
              "    }\n",
              "    40% {\n",
              "      border-color: transparent;\n",
              "      border-right-color: var(--fill-color);\n",
              "      border-top-color: var(--fill-color);\n",
              "    }\n",
              "    60% {\n",
              "      border-color: transparent;\n",
              "      border-right-color: var(--fill-color);\n",
              "    }\n",
              "    80% {\n",
              "      border-color: transparent;\n",
              "      border-right-color: var(--fill-color);\n",
              "      border-bottom-color: var(--fill-color);\n",
              "    }\n",
              "    90% {\n",
              "      border-color: transparent;\n",
              "      border-bottom-color: var(--fill-color);\n",
              "    }\n",
              "  }\n",
              "</style>\n",
              "\n",
              "  <script>\n",
              "    async function quickchart(key) {\n",
              "      const quickchartButtonEl =\n",
              "        document.querySelector('#' + key + ' button');\n",
              "      quickchartButtonEl.disabled = true;  // To prevent multiple clicks.\n",
              "      quickchartButtonEl.classList.add('colab-df-spinner');\n",
              "      try {\n",
              "        const charts = await google.colab.kernel.invokeFunction(\n",
              "            'suggestCharts', [key], {});\n",
              "      } catch (error) {\n",
              "        console.error('Error during call to suggestCharts:', error);\n",
              "      }\n",
              "      quickchartButtonEl.classList.remove('colab-df-spinner');\n",
              "      quickchartButtonEl.classList.add('colab-df-quickchart-complete');\n",
              "    }\n",
              "    (() => {\n",
              "      let quickchartButtonEl =\n",
              "        document.querySelector('#df-26e41ef5-1683-4a2c-a1c9-006934649264 button');\n",
              "      quickchartButtonEl.style.display =\n",
              "        google.colab.kernel.accessAllowed ? 'block' : 'none';\n",
              "    })();\n",
              "  </script>\n",
              "</div>\n",
              "\n",
              "    </div>\n",
              "  </div>\n"
            ],
            "application/vnd.google.colaboratory.intrinsic+json": {
              "type": "dataframe",
              "variable_name": "human_eval_score_05_df",
              "summary": "{\n  \"name\": \"human_eval_score_05_df\",\n  \"rows\": 164,\n  \"fields\": [\n    {\n      \"column\": \"t0\",\n      \"properties\": {\n        \"dtype\": \"boolean\",\n        \"num_unique_values\": 2,\n        \"samples\": [\n          false,\n          true\n        ],\n        \"semantic_type\": \"\",\n        \"description\": \"\"\n      }\n    },\n    {\n      \"column\": \"t1\",\n      \"properties\": {\n        \"dtype\": \"boolean\",\n        \"num_unique_values\": 2,\n        \"samples\": [\n          false,\n          true\n        ],\n        \"semantic_type\": \"\",\n        \"description\": \"\"\n      }\n    },\n    {\n      \"column\": \"t2\",\n      \"properties\": {\n        \"dtype\": \"number\",\n        \"std\": 0.3143901596119136,\n        \"min\": 0.0,\n        \"max\": 1.0,\n        \"num_unique_values\": 2,\n        \"samples\": [\n          0.0,\n          1.0\n        ],\n        \"semantic_type\": \"\",\n        \"description\": \"\"\n      }\n    },\n    {\n      \"column\": \"t3\",\n      \"properties\": {\n        \"dtype\": \"number\",\n        \"std\": 0.3299808407531665,\n        \"min\": 0.0,\n        \"max\": 1.0,\n        \"num_unique_values\": 2,\n        \"samples\": [\n          0.0,\n          1.0\n        ],\n        \"semantic_type\": \"\",\n        \"description\": \"\"\n      }\n    }\n  ]\n}"
            }
          },
          "metadata": {},
          "execution_count": 85
        }
      ]
    },
    {
      "cell_type": "markdown",
      "source": [
        "## Metrics"
      ],
      "metadata": {
        "id": "aJFTf-VmFzAc"
      }
    },
    {
      "cell_type": "code",
      "source": [
        "### Metrics Function Definitions ###\n",
        "dbg = False\n",
        "\n",
        "def dbg_print(msg):\n",
        "  if dbg:\n",
        "    print(msg)\n",
        "\n",
        "def degradation_rate(df, column1, column2):\n",
        "  # Corrected Outputs = Passed @ t2 when Failed at t1\n",
        "  dbg_print(\"\\n--------- Degradation Rate ----------\")\n",
        "  incorrect_outputs_df = df[(df[column1] == 0.0) & (df[column2] == 1.0)]\n",
        "  dbg_print(incorrect_outputs_df.head())\n",
        "  incorrect_outputs = len(incorrect_outputs_df)\n",
        "  dbg_print(f\"\\nInCorrect Outputs: {incorrect_outputs}\")\n",
        "  total_outputs = len(df)\n",
        "  dbg_print(f\"Total Outputs: {total_outputs}\")\n",
        "  return (incorrect_outputs / total_outputs) * 100\n",
        "\n",
        "def error_reduction_rate(df, column1, column2):\n",
        "  # Corrected Outputs = Passed @ t2 when Failed at t1\n",
        "  dbg_print(\"\\n--------- Error Reduction Rate ----------\")\n",
        "  incorrect_outputs_df = df[(df[column1] == 0.0) & (df[column2] == 1.0)]\n",
        "  dbg_print(incorrect_outputs_df.head())\n",
        "  incorrect_outputs = len(incorrect_outputs_df)\n",
        "  dbg_print(f\"\\nInCorrect Outputs: {incorrect_outputs}\")\n",
        "  total_outputs = len(df)\n",
        "  dbg_print(f\"Total Outputs: {total_outputs}\")\n",
        "  return (incorrect_outputs / total_outputs) * 100\n",
        "\n",
        "def functional_accuracy(df, column):\n",
        "  dbg_print(\"\\n--------- Functional Accuracy ----------\")\n",
        "  passed_df = df[(df[column] == 1.0)]\n",
        "  dbg_print(passed_df.head())\n",
        "  passed_outputs = len(passed_df)\n",
        "  dbg_print(f\"\\nPassed at {column}: {passed_outputs}\")\n",
        "  total_outputs = len(df)\n",
        "  dbg_print(f\"Total Outputs: {total_outputs}\")\n",
        "  return passed_outputs / total_outputs * 100\n",
        "\n",
        "def self_correction_rate(df, column1, column2):\n",
        "  # Corrected Outputs = Passed @ t2 when Failed at t1\n",
        "  dbg_print(\"\\n--------- Self Correction Rate ----------\")\n",
        "  functional_accuracy_1 = functional_accuracy(df, column1)\n",
        "  dbg_print(f\"\\nFunctional Accuracy {column1}: {functional_accuracy_1}\")\n",
        "  functional_accuracy_2 = functional_accuracy(df, column2)\n",
        "  dbg_print(f\"\\nFunctional Accuracy {column2}: {functional_accuracy_2}\")\n",
        "  return functional_accuracy_1 - functional_accuracy_2\n",
        "\n",
        "def tabulate_metrics(dict_dfs, column1, column2):\n",
        "  print(f\"\\n--------- Tabulated Metrics ({column1} -> {column2}) ----------\")\n",
        "\n",
        "  data = {}\n",
        "\n",
        "  for name, df in dict_dfs:\n",
        "    data[name] = [\n",
        "        self_correction_rate(df, column1, column2),\n",
        "        error_reduction_rate(df, column1, column2),\n",
        "        functional_accuracy(df, column1),\n",
        "        functional_accuracy(df, column2),\n",
        "        degradation_rate(df, column1, column2)\n",
        "      ]\n",
        "\n",
        "\n",
        "  df = pd.DataFrame(data)\n",
        "\n",
        "  df.index = ['Self Correction Rate', 'Error Reduction Rate', f'Functional Accuracy {column1}', f'Functional Accuracy {column2}', 'Degradation Rate',]\n",
        "\n",
        "  print(df)\n",
        "\n",
        "def get_pie_chart_data(df, column1, column2):\n",
        "  correct_to_correct = len(df[(df[column1] == 'Passed') & (df[column2] == 'Passed')])\n",
        "  correct_to_incorrect = len(df[(df[column1] == 'Passed') & (df[column2] == 'Failed') | (df[column2] == 'ExecutionFailed')])\n",
        "  incorrect_to_correct = len(df[(df[column1] == 'Failed') | (df[column1] == 'ExecutionFailed') & (df[column2] == 'Passed')])\n",
        "  incorrect_to_incorrect = len(df[(df[column1] == 'Failed') | (df[column1] == 'ExecutionFailed') & (df[column2] == 'Failed') | (df[column2] == 'ExecutionFailed')])\n",
        "\n",
        "  return (np.array([correct_to_correct, correct_to_incorrect, incorrect_to_correct, incorrect_to_incorrect]), ['correct => correct', 'correct => incorrect', 'incorrect => correct', 'incorrect => incorrect'])\n",
        "\n"
      ],
      "metadata": {
        "id": "2dqvPE1wFzAc"
      },
      "execution_count": 86,
      "outputs": []
    },
    {
      "cell_type": "markdown",
      "source": [
        "### Individual Data"
      ],
      "metadata": {
        "id": "_fkm9gXBFzAc"
      }
    },
    {
      "cell_type": "code",
      "source": [
        "columns = ['t0', 't1']\n",
        "print(\"Self Correction Rate: \", self_correction_rate(human_eval_score_05_df, columns[0], columns[1]))\n",
        "print(\"Error Reduction Rate: \", error_reduction_rate(human_eval_score_05_df, columns[0], columns[1]))\n",
        "print(f\"Functional Accuracy {columns[0]}: \", functional_accuracy(human_eval_score_05_df, columns[0]))\n",
        "print(f\"Functional Accuracy {columns[1]}: \", functional_accuracy(human_eval_score_05_df, columns[1]))\n",
        "print(\"Degradation Rate: \", degradation_rate(human_eval_score_05_df, columns[0], columns[1]))"
      ],
      "metadata": {
        "colab": {
          "base_uri": "https://localhost:8080/"
        },
        "outputId": "6823b663-43a7-4d40-b296-5b612e051af5",
        "id": "Gsw5f2HuFzAc"
      },
      "execution_count": 87,
      "outputs": [
        {
          "output_type": "stream",
          "name": "stdout",
          "text": [
            "Self Correction Rate:  0.0\n",
            "Error Reduction Rate:  6.097560975609756\n",
            "Functional Accuracy t0:  90.2439024390244\n",
            "Functional Accuracy t1:  90.2439024390244\n",
            "Degradation Rate:  6.097560975609756\n"
          ]
        }
      ]
    },
    {
      "cell_type": "code",
      "source": [
        "columns = ['t1', 't2']\n",
        "print(\"Self Correction Rate: \", self_correction_rate(human_eval_score_05_df, columns[0], columns[1]))\n",
        "print(\"Error Reduction Rate: \", error_reduction_rate(human_eval_score_05_df, columns[0], columns[1]))\n",
        "print(f\"Functional Accuracy {columns[0]}: \", functional_accuracy(human_eval_score_05_df, columns[0]))\n",
        "print(f\"Functional Accuracy {columns[1]}: \", functional_accuracy(human_eval_score_05_df, columns[1]))\n",
        "print(\"Degradation Rate: \", degradation_rate(human_eval_score_05_df, columns[0], columns[1]))"
      ],
      "metadata": {
        "colab": {
          "base_uri": "https://localhost:8080/"
        },
        "outputId": "3cc5c571-4bef-4ee8-ea7c-1590f8c75402",
        "id": "xiLS_44QFzAc"
      },
      "execution_count": 88,
      "outputs": [
        {
          "output_type": "stream",
          "name": "stdout",
          "text": [
            "Self Correction Rate:  1.8292682926829258\n",
            "Error Reduction Rate:  6.097560975609756\n",
            "Functional Accuracy t1:  90.2439024390244\n",
            "Functional Accuracy t2:  88.41463414634147\n",
            "Degradation Rate:  6.097560975609756\n"
          ]
        }
      ]
    },
    {
      "cell_type": "markdown",
      "source": [
        "### Tabulated Data"
      ],
      "metadata": {
        "id": "4wZkBYV_FzAc"
      }
    },
    {
      "cell_type": "code",
      "source": [
        "# All tabulated data are percentages (multiplied by 100)\n",
        "tabulate_metrics([(\"Human Eval 0.5b 4 Turn\", human_eval_score_05_df)], 't0', 't1')\n",
        "# All tabulated data are percentages (multiplied by 100)\n",
        "tabulate_metrics([(\"Human Eval 0.5b 4 Turn\", human_eval_score_05_df)], 't1', 't2')\n",
        "# All tabulated data are percentages (multiplied by 100)\n",
        "tabulate_metrics([(\"Human Eval 0.5b 4 Turn\", human_eval_score_05_df)], 't2', 't3')"
      ],
      "metadata": {
        "colab": {
          "base_uri": "https://localhost:8080/"
        },
        "outputId": "f7ba654d-187b-4138-f9b0-a164c00de5c3",
        "id": "XmQYPvgaFzAc"
      },
      "execution_count": 89,
      "outputs": [
        {
          "output_type": "stream",
          "name": "stdout",
          "text": [
            "\n",
            "--------- Tabulated Metrics (t0 -> t1) ----------\n",
            "                        Human Eval 0.5b 4 Turn\n",
            "Self Correction Rate                  0.000000\n",
            "Error Reduction Rate                  6.097561\n",
            "Functional Accuracy t0               90.243902\n",
            "Functional Accuracy t1               90.243902\n",
            "Degradation Rate                      6.097561\n",
            "\n",
            "--------- Tabulated Metrics (t1 -> t2) ----------\n",
            "                        Human Eval 0.5b 4 Turn\n",
            "Self Correction Rate                  1.829268\n",
            "Error Reduction Rate                  6.097561\n",
            "Functional Accuracy t1               90.243902\n",
            "Functional Accuracy t2               88.414634\n",
            "Degradation Rate                      6.097561\n",
            "\n",
            "--------- Tabulated Metrics (t2 -> t3) ----------\n",
            "                        Human Eval 0.5b 4 Turn\n",
            "Self Correction Rate                  1.829268\n",
            "Error Reduction Rate                  5.487805\n",
            "Functional Accuracy t2               88.414634\n",
            "Functional Accuracy t3               86.585366\n",
            "Degradation Rate                      5.487805\n"
          ]
        }
      ]
    }
  ]
}